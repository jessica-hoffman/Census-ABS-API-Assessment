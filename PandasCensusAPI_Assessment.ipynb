{
 "cells": [
  {
   "attachments": {},
   "cell_type": "markdown",
   "metadata": {},
   "source": [
    "# CENSUS ANNUAL BUSINESS INSIGHTS DATA ANALYSIS\n",
    "\n",
    "## DEV10 WEEK 8 ASSESSMENT\n",
    "### Group: Alexandra Reilly, Jessica Hoffman, Vanessa Schroeder\n",
    "## Introduction\n",
    "We were assigned to examine data within census data, specifically, the Annual Business Survey for 2019. We decided to give a high level overview of the dataset.\n",
    "\n",
    "Some of the questions we initially wanted to investigate were:\n",
    "- Is the annual salary difference between races and between genders enough to be statistically significant? If so, would the intersection of being a minority (e.g. a black woman) have more of an impact than one of these factors alone?\n",
    "- What states have the highest percentage of veteran workers?\n",
    "- What effect did COVID have on annual pay or other factors?\n",
    "\n",
    "\n",
    "## ETL\n",
    "### Data Sources\n",
    "Our data was extracted from: api.census.gov/data.html\n",
    "\n",
    "From the Data Catalog website:\n",
    "*“The Census Bureau is the federal government’s largest statistical agency. We are dedicated to providing current facts and figures about America’s people, places, and economy. Federal law protects the confidentiality of all the information the Census Bureau collects.”*\n",
    "\n",
    "### Extraction\n",
    "We used Python to call the Census API tool\n",
    "The API extracted the data in JSON format\n",
    "\n",
    "### Transformation\n",
    "We then used Pandas to create our dataframe, and MatPlotLib to build graphs off of that data.\n",
    "We used Python pandas to load the data from the JSON file into dataframes.\n",
    "\n",
    "### Load\n",
    "Since we did not need to load the data from the Jupyter Notebook into any other application, we did not require a load step. However, if we wanted to store the data permanently in a SQL database, for instance, we could use the pandas built in 'to_sql'.\n",
    "\n",
    "*DataFrame.to_sql(name, con, schema=None, if_exists='fail', index=True, index_label=None, chunksize=None, dtype=None, method=None)*"
   ]
  },
  {
   "cell_type": "code",
   "execution_count": 708,
   "metadata": {},
   "outputs": [],
   "source": [
    "import pandas as pd\n",
    "import json\n",
    "import requests\n",
    "import matplotlib.pyplot as plt\n",
    "import numpy as py\n",
    "import seaborn as sns\n",
    "import plotly.express as px\n",
    "\n",
    "from config import api_key\n",
    "from config import absjson2019,absjson2020,absjson2021\n",
    "from config import absjson_us19,absjson_us20,absjson_us21 "
   ]
  },
  {
   "cell_type": "code",
   "execution_count": 685,
   "metadata": {},
   "outputs": [
    {
     "name": "stdout",
     "output_type": "stream",
     "text": [
      "The autoreload extension is already loaded. To reload it, use:\n",
      "  %reload_ext autoreload\n"
     ]
    }
   ],
   "source": [
    "#before any import run this\n",
    "%load_ext autoreload\n",
    "%autoreload 2\n",
    "\n",
    "# set max_rows option to None to display all rows\n",
    "pd.options.display.max_rows = 999"
   ]
  },
  {
   "cell_type": "code",
   "execution_count": 695,
   "metadata": {},
   "outputs": [],
   "source": [
    "HOST = 'https://api.census.gov/data'\n",
    "year = '2018'\n",
    "dataset = 'abscs'\n",
    "# geography = 'us'\n",
    "geography = 'state'\n",
    "# geography = 'metropolitan statistical area/micropolitan statistical area'\n",
    "params = {\n",
    "    'get': 'YEAR,NAICS2017,NAICS2017_LABEL,NAME,EMP,PAYANN,SEX,SEX_LABEL,RACE_GROUP,RACE_GROUP_LABEL,VET_GROUP,VET_GROUP_LABEL',\n",
    "    'for': f'{geography}:*'\n",
    "    # 'key': api_key\n",
    "}\n",
    "base_url = '/'.join([HOST,year,dataset])\n",
    "response = requests.get(base_url,params=params)\n",
    "\n",
    "year2 = '2019'\n",
    "base_url2 = '/'.join([HOST,year2,dataset])\n",
    "response2 = requests.get(base_url2,params=params)\n",
    "\n",
    "year3 = '2020'\n",
    "base_url3 = '/'.join([HOST,year3,dataset])\n",
    "response3 = requests.get(base_url3,params=params)"
   ]
  },
  {
   "cell_type": "code",
   "execution_count": 696,
   "metadata": {},
   "outputs": [],
   "source": [
    "HOST = 'https://api.census.gov/data'\n",
    "year = '2018'\n",
    "dataset = 'abscs'\n",
    "geography1 = 'us'\n",
    "params_us = {\n",
    "    'get': 'YEAR,NAICS2017,NAICS2017_LABEL,NAME,EMP,PAYANN,SEX,SEX_LABEL,RACE_GROUP,RACE_GROUP_LABEL,VET_GROUP,VET_GROUP_LABEL',\n",
    "    'for': f'{geography1}:*'\n",
    "    # 'key': api_key\n",
    "}\n",
    "base_url = '/'.join([HOST,year,dataset])\n",
    "response_us19 = requests.get(base_url,params=params_us)\n",
    "\n",
    "year2 = '2019'\n",
    "base_url2 = '/'.join([HOST,year2,dataset])\n",
    "response_us20 = requests.get(base_url2,params=params_us)\n",
    "\n",
    "year3 = '2020'\n",
    "base_url3 = '/'.join([HOST,year3,dataset])\n",
    "response_us21 = requests.get(base_url3,params=params_us)"
   ]
  },
  {
   "attachments": {},
   "cell_type": "markdown",
   "metadata": {},
   "source": [
    "The code below reads the data from the API call at the state level geography and saves it as JSON files in the data folder."
   ]
  },
  {
   "cell_type": "code",
   "execution_count": 691,
   "metadata": {},
   "outputs": [],
   "source": [
    "data2019 = response.json()\n",
    "with open(absjson2019, 'w') as f:\n",
    "    json.dump(data2019, f)\n",
    "\n",
    "data2020 = response2.json()\n",
    "with open(absjson2020, 'w') as f:\n",
    "    json.dump(data2020, f)\n",
    "\n",
    "data2021 = response3.json()\n",
    "with open(absjson2021, 'w') as f:\n",
    "    json.dump(data2021, f)"
   ]
  },
  {
   "attachments": {},
   "cell_type": "markdown",
   "metadata": {},
   "source": [
    "The code below reads the data from the API call at the national (US) level geography and saves it as JSON files in the data folder."
   ]
  },
  {
   "cell_type": "code",
   "execution_count": 709,
   "metadata": {},
   "outputs": [],
   "source": [
    "us2019 = response_us19.json()\n",
    "with open(absjson_us19, 'w') as f:\n",
    "    json.dump(us2019, f)\n",
    "\n",
    "us2020 = response_us20.json()\n",
    "with open(absjson_us20, 'w') as f:\n",
    "    json.dump(us2020, f)\n",
    "\n",
    "us2021 = response_us21.json()\n",
    "with open(absjson_us21, 'w') as f:\n",
    "    json.dump(us2021, f)"
   ]
  },
  {
   "attachments": {},
   "cell_type": "markdown",
   "metadata": {},
   "source": [
    "The code below reads the data in from the locally saved JSON files into appropriately named data frames. Census is the data frame resulting from the concatenation of each of the years 2019,20202,2021 at the state level. This is the main denormalized table from which normalized data frames will be created and which data will be investigated by merges of the ~2NF normalized tables."
   ]
  },
  {
   "cell_type": "code",
   "execution_count": 710,
   "metadata": {},
   "outputs": [
    {
     "data": {
      "text/html": [
       "<div>\n",
       "<style scoped>\n",
       "    .dataframe tbody tr th:only-of-type {\n",
       "        vertical-align: middle;\n",
       "    }\n",
       "\n",
       "    .dataframe tbody tr th {\n",
       "        vertical-align: top;\n",
       "    }\n",
       "\n",
       "    .dataframe thead th {\n",
       "        text-align: right;\n",
       "    }\n",
       "</style>\n",
       "<table border=\"1\" class=\"dataframe\">\n",
       "  <thead>\n",
       "    <tr style=\"text-align: right;\">\n",
       "      <th></th>\n",
       "      <th>YEAR</th>\n",
       "      <th>NAICS2017</th>\n",
       "      <th>NAICS2017_LABEL</th>\n",
       "      <th>NAME</th>\n",
       "      <th>EMP</th>\n",
       "      <th>PAYANN</th>\n",
       "      <th>SEX</th>\n",
       "      <th>SEX_LABEL</th>\n",
       "      <th>RACE_GROUP</th>\n",
       "      <th>RACE_GROUP_LABEL</th>\n",
       "      <th>VET_GROUP</th>\n",
       "      <th>VET_GROUP_LABEL</th>\n",
       "      <th>state</th>\n",
       "    </tr>\n",
       "  </thead>\n",
       "  <tbody>\n",
       "    <tr>\n",
       "      <th>224654</th>\n",
       "      <td>2020</td>\n",
       "      <td>519</td>\n",
       "      <td>Other information services</td>\n",
       "      <td>Minnesota</td>\n",
       "      <td>0</td>\n",
       "      <td>0</td>\n",
       "      <td>004</td>\n",
       "      <td>Equally male/female</td>\n",
       "      <td>00</td>\n",
       "      <td>Total</td>\n",
       "      <td>001</td>\n",
       "      <td>Total</td>\n",
       "      <td>27</td>\n",
       "    </tr>\n",
       "    <tr>\n",
       "      <th>224655</th>\n",
       "      <td>2020</td>\n",
       "      <td>519</td>\n",
       "      <td>Other information services</td>\n",
       "      <td>Minnesota</td>\n",
       "      <td>0</td>\n",
       "      <td>0</td>\n",
       "      <td>001</td>\n",
       "      <td>Total</td>\n",
       "      <td>30</td>\n",
       "      <td>White</td>\n",
       "      <td>001</td>\n",
       "      <td>Total</td>\n",
       "      <td>27</td>\n",
       "    </tr>\n",
       "    <tr>\n",
       "      <th>224656</th>\n",
       "      <td>2020</td>\n",
       "      <td>519</td>\n",
       "      <td>Other information services</td>\n",
       "      <td>Minnesota</td>\n",
       "      <td>0</td>\n",
       "      <td>0</td>\n",
       "      <td>001</td>\n",
       "      <td>Total</td>\n",
       "      <td>40</td>\n",
       "      <td>Black or African American</td>\n",
       "      <td>001</td>\n",
       "      <td>Total</td>\n",
       "      <td>27</td>\n",
       "    </tr>\n",
       "  </tbody>\n",
       "</table>\n",
       "</div>"
      ],
      "text/plain": [
       "        YEAR NAICS2017             NAICS2017_LABEL       NAME EMP PAYANN  SEX  \\\n",
       "224654  2020       519  Other information services  Minnesota   0      0  004   \n",
       "224655  2020       519  Other information services  Minnesota   0      0  001   \n",
       "224656  2020       519  Other information services  Minnesota   0      0  001   \n",
       "\n",
       "                  SEX_LABEL RACE_GROUP           RACE_GROUP_LABEL VET_GROUP  \\\n",
       "224654  Equally male/female         00                      Total       001   \n",
       "224655                Total         30                      White       001   \n",
       "224656                Total         40  Black or African American       001   \n",
       "\n",
       "       VET_GROUP_LABEL state  \n",
       "224654           Total    27  \n",
       "224655           Total    27  \n",
       "224656           Total    27  "
      ]
     },
     "execution_count": 710,
     "metadata": {},
     "output_type": "execute_result"
    }
   ],
   "source": [
    "census2019 = pd.read_json(absjson2019)\n",
    "census2019 = pd.DataFrame(data2019[1:], columns=data2019[0])\n",
    "\n",
    "census2020 = pd.read_json(absjson2020)\n",
    "census2020 = pd.DataFrame(data2020[1:], columns=data2020[0])\n",
    "\n",
    "census2021 = pd.read_json(absjson2021)\n",
    "census2021 = pd.DataFrame(data2021[1:], columns=data2021[0])\n",
    "\n",
    "census = pd.concat([census2019,census2020,census2021])\n",
    "census.tail(3)"
   ]
  },
  {
   "attachments": {},
   "cell_type": "markdown",
   "metadata": {},
   "source": [
    "Similarly, census_us is the data frame resulting from the concatenation of each of the years 2019,20202,2021 at the National (US) level. This is the main denormalized table from which data is later pulled for an overview of COVID years impact on industry sectors."
   ]
  },
  {
   "cell_type": "code",
   "execution_count": 712,
   "metadata": {},
   "outputs": [
    {
     "data": {
      "text/html": [
       "<div>\n",
       "<style scoped>\n",
       "    .dataframe tbody tr th:only-of-type {\n",
       "        vertical-align: middle;\n",
       "    }\n",
       "\n",
       "    .dataframe tbody tr th {\n",
       "        vertical-align: top;\n",
       "    }\n",
       "\n",
       "    .dataframe thead th {\n",
       "        text-align: right;\n",
       "    }\n",
       "</style>\n",
       "<table border=\"1\" class=\"dataframe\">\n",
       "  <thead>\n",
       "    <tr style=\"text-align: right;\">\n",
       "      <th></th>\n",
       "      <th>YEAR</th>\n",
       "      <th>NAICS2017</th>\n",
       "      <th>NAICS2017_LABEL</th>\n",
       "      <th>NAME</th>\n",
       "      <th>EMP</th>\n",
       "      <th>PAYANN</th>\n",
       "      <th>SEX</th>\n",
       "      <th>SEX_LABEL</th>\n",
       "      <th>RACE_GROUP</th>\n",
       "      <th>RACE_GROUP_LABEL</th>\n",
       "      <th>VET_GROUP</th>\n",
       "      <th>VET_GROUP_LABEL</th>\n",
       "      <th>us</th>\n",
       "    </tr>\n",
       "  </thead>\n",
       "  <tbody>\n",
       "    <tr>\n",
       "      <th>22111</th>\n",
       "      <td>2020</td>\n",
       "      <td>11</td>\n",
       "      <td>Agriculture, forestry, fishing and hunting</td>\n",
       "      <td>United States</td>\n",
       "      <td>7403</td>\n",
       "      <td>310743</td>\n",
       "      <td>003</td>\n",
       "      <td>Male</td>\n",
       "      <td>00</td>\n",
       "      <td>Total</td>\n",
       "      <td>002</td>\n",
       "      <td>Veteran</td>\n",
       "      <td>1</td>\n",
       "    </tr>\n",
       "    <tr>\n",
       "      <th>22112</th>\n",
       "      <td>2020</td>\n",
       "      <td>11</td>\n",
       "      <td>Agriculture, forestry, fishing and hunting</td>\n",
       "      <td>United States</td>\n",
       "      <td>34499</td>\n",
       "      <td>1169783</td>\n",
       "      <td>004</td>\n",
       "      <td>Equally male/female</td>\n",
       "      <td>00</td>\n",
       "      <td>Total</td>\n",
       "      <td>004</td>\n",
       "      <td>Nonveteran</td>\n",
       "      <td>1</td>\n",
       "    </tr>\n",
       "    <tr>\n",
       "      <th>22113</th>\n",
       "      <td>2020</td>\n",
       "      <td>11</td>\n",
       "      <td>Agriculture, forestry, fishing and hunting</td>\n",
       "      <td>United States</td>\n",
       "      <td>201335</td>\n",
       "      <td>7701265</td>\n",
       "      <td>001</td>\n",
       "      <td>Total</td>\n",
       "      <td>30</td>\n",
       "      <td>White</td>\n",
       "      <td>001</td>\n",
       "      <td>Total</td>\n",
       "      <td>1</td>\n",
       "    </tr>\n",
       "  </tbody>\n",
       "</table>\n",
       "</div>"
      ],
      "text/plain": [
       "       YEAR NAICS2017                             NAICS2017_LABEL  \\\n",
       "22111  2020        11  Agriculture, forestry, fishing and hunting   \n",
       "22112  2020        11  Agriculture, forestry, fishing and hunting   \n",
       "22113  2020        11  Agriculture, forestry, fishing and hunting   \n",
       "\n",
       "                NAME     EMP   PAYANN  SEX            SEX_LABEL RACE_GROUP  \\\n",
       "22111  United States    7403   310743  003                 Male         00   \n",
       "22112  United States   34499  1169783  004  Equally male/female         00   \n",
       "22113  United States  201335  7701265  001                Total         30   \n",
       "\n",
       "      RACE_GROUP_LABEL VET_GROUP VET_GROUP_LABEL us  \n",
       "22111            Total       002         Veteran  1  \n",
       "22112            Total       004      Nonveteran  1  \n",
       "22113            White       001           Total  1  "
      ]
     },
     "execution_count": 712,
     "metadata": {},
     "output_type": "execute_result"
    }
   ],
   "source": [
    "census_us_2019 = pd.read_json(absjson_us19)\n",
    "census_us_2019 = pd.DataFrame(us2019[1:], columns=us2019[0])\n",
    "\n",
    "census_us_2020 = pd.read_json(absjson_us20)\n",
    "census_us_2020 = pd.DataFrame(us2020[1:], columns=us2020[0])\n",
    "\n",
    "census_us_2021 = pd.read_json(absjson_us21)\n",
    "census_us_2021 = pd.DataFrame(us2021[1:], columns=us2021[0])\n",
    "\n",
    "census_us = pd.concat([census_us_2019,census_us_2020,census_us_2021])\n",
    "census_us.tail(3)"
   ]
  },
  {
   "attachments": {},
   "cell_type": "markdown",
   "metadata": {},
   "source": [
    "This data set was relatively clean and did not require any cleaning in other applications.  \n",
    "\n",
    "For 'YEAR', a table was created to find the unique values in this field."
   ]
  },
  {
   "cell_type": "code",
   "execution_count": 135,
   "metadata": {},
   "outputs": [
    {
     "data": {
      "text/html": [
       "<div>\n",
       "<style scoped>\n",
       "    .dataframe tbody tr th:only-of-type {\n",
       "        vertical-align: middle;\n",
       "    }\n",
       "\n",
       "    .dataframe tbody tr th {\n",
       "        vertical-align: top;\n",
       "    }\n",
       "\n",
       "    .dataframe thead th {\n",
       "        text-align: right;\n",
       "    }\n",
       "</style>\n",
       "<table border=\"1\" class=\"dataframe\">\n",
       "  <thead>\n",
       "    <tr style=\"text-align: right;\">\n",
       "      <th></th>\n",
       "      <th>YEAR</th>\n",
       "    </tr>\n",
       "  </thead>\n",
       "  <tbody>\n",
       "    <tr>\n",
       "      <th>0</th>\n",
       "      <td>2018</td>\n",
       "    </tr>\n",
       "    <tr>\n",
       "      <th>0</th>\n",
       "      <td>2019</td>\n",
       "    </tr>\n",
       "    <tr>\n",
       "      <th>0</th>\n",
       "      <td>2020</td>\n",
       "    </tr>\n",
       "  </tbody>\n",
       "</table>\n",
       "</div>"
      ],
      "text/plain": [
       "   YEAR\n",
       "0  2018\n",
       "0  2019\n",
       "0  2020"
      ]
     },
     "execution_count": 135,
     "metadata": {},
     "output_type": "execute_result"
    }
   ],
   "source": [
    "years = census[['YEAR']].drop_duplicates()\n",
    "years"
   ]
  },
  {
   "attachments": {},
   "cell_type": "markdown",
   "metadata": {},
   "source": [
    "For 'NAME', the field referring to state names, a table was created to find the unique values in this field. Note, there are 51 states in this tables, including District of Columbia."
   ]
  },
  {
   "cell_type": "code",
   "execution_count": 713,
   "metadata": {},
   "outputs": [
    {
     "name": "stdout",
     "output_type": "stream",
     "text": [
      "51 states including DC\n"
     ]
    },
    {
     "data": {
      "text/html": [
       "<div>\n",
       "<style scoped>\n",
       "    .dataframe tbody tr th:only-of-type {\n",
       "        vertical-align: middle;\n",
       "    }\n",
       "\n",
       "    .dataframe tbody tr th {\n",
       "        vertical-align: top;\n",
       "    }\n",
       "\n",
       "    .dataframe thead th {\n",
       "        text-align: right;\n",
       "    }\n",
       "</style>\n",
       "<table border=\"1\" class=\"dataframe\">\n",
       "  <thead>\n",
       "    <tr style=\"text-align: right;\">\n",
       "      <th></th>\n",
       "      <th>NAME</th>\n",
       "    </tr>\n",
       "  </thead>\n",
       "  <tbody>\n",
       "    <tr>\n",
       "      <th>0</th>\n",
       "      <td>Alabama</td>\n",
       "    </tr>\n",
       "    <tr>\n",
       "      <th>1</th>\n",
       "      <td>Alaska</td>\n",
       "    </tr>\n",
       "    <tr>\n",
       "      <th>2</th>\n",
       "      <td>Arizona</td>\n",
       "    </tr>\n",
       "    <tr>\n",
       "      <th>3</th>\n",
       "      <td>Arkansas</td>\n",
       "    </tr>\n",
       "    <tr>\n",
       "      <th>4</th>\n",
       "      <td>California</td>\n",
       "    </tr>\n",
       "    <tr>\n",
       "      <th>5</th>\n",
       "      <td>Colorado</td>\n",
       "    </tr>\n",
       "    <tr>\n",
       "      <th>6</th>\n",
       "      <td>Connecticut</td>\n",
       "    </tr>\n",
       "    <tr>\n",
       "      <th>7</th>\n",
       "      <td>Delaware</td>\n",
       "    </tr>\n",
       "    <tr>\n",
       "      <th>8</th>\n",
       "      <td>District of Columbia</td>\n",
       "    </tr>\n",
       "  </tbody>\n",
       "</table>\n",
       "</div>"
      ],
      "text/plain": [
       "                   NAME\n",
       "0               Alabama\n",
       "1                Alaska\n",
       "2               Arizona\n",
       "3              Arkansas\n",
       "4            California\n",
       "5              Colorado\n",
       "6           Connecticut\n",
       "7              Delaware\n",
       "8  District of Columbia"
      ]
     },
     "execution_count": 713,
     "metadata": {},
     "output_type": "execute_result"
    }
   ],
   "source": [
    "states = census[['NAME']].drop_duplicates()\n",
    "states = states.sort_values('NAME').reset_index(drop=True)\n",
    "numstates = len(states['NAME']) \n",
    "print(f'{numstates} states including DC')\n",
    "states.head(9)"
   ]
  },
  {
   "attachments": {},
   "cell_type": "markdown",
   "metadata": {},
   "source": [
    "For 'SEXES' a table was created to find the unique values in this field. TOTAL was removed from the individual values to avoid value duplication but allow for merging only on the total value for other analyses."
   ]
  },
  {
   "cell_type": "code",
   "execution_count": 513,
   "metadata": {},
   "outputs": [
    {
     "data": {
      "text/html": [
       "<div>\n",
       "<style scoped>\n",
       "    .dataframe tbody tr th:only-of-type {\n",
       "        vertical-align: middle;\n",
       "    }\n",
       "\n",
       "    .dataframe tbody tr th {\n",
       "        vertical-align: top;\n",
       "    }\n",
       "\n",
       "    .dataframe thead th {\n",
       "        text-align: right;\n",
       "    }\n",
       "</style>\n",
       "<table border=\"1\" class=\"dataframe\">\n",
       "  <thead>\n",
       "    <tr style=\"text-align: right;\">\n",
       "      <th></th>\n",
       "      <th>SEX</th>\n",
       "      <th>SEX_LABEL</th>\n",
       "    </tr>\n",
       "  </thead>\n",
       "  <tbody>\n",
       "    <tr>\n",
       "      <th>1</th>\n",
       "      <td>003</td>\n",
       "      <td>Male</td>\n",
       "    </tr>\n",
       "    <tr>\n",
       "      <th>6</th>\n",
       "      <td>002</td>\n",
       "      <td>Female</td>\n",
       "    </tr>\n",
       "    <tr>\n",
       "      <th>8</th>\n",
       "      <td>004</td>\n",
       "      <td>Equally male/female</td>\n",
       "    </tr>\n",
       "  </tbody>\n",
       "</table>\n",
       "</div>"
      ],
      "text/plain": [
       "   SEX            SEX_LABEL\n",
       "1  003                 Male\n",
       "6  002               Female\n",
       "8  004  Equally male/female"
      ]
     },
     "metadata": {},
     "output_type": "display_data"
    },
    {
     "data": {
      "text/html": [
       "<div>\n",
       "<style scoped>\n",
       "    .dataframe tbody tr th:only-of-type {\n",
       "        vertical-align: middle;\n",
       "    }\n",
       "\n",
       "    .dataframe tbody tr th {\n",
       "        vertical-align: top;\n",
       "    }\n",
       "\n",
       "    .dataframe thead th {\n",
       "        text-align: right;\n",
       "    }\n",
       "</style>\n",
       "<table border=\"1\" class=\"dataframe\">\n",
       "  <thead>\n",
       "    <tr style=\"text-align: right;\">\n",
       "      <th></th>\n",
       "      <th>SEX</th>\n",
       "      <th>SEX_LABEL</th>\n",
       "    </tr>\n",
       "  </thead>\n",
       "  <tbody>\n",
       "    <tr>\n",
       "      <th>0</th>\n",
       "      <td>001</td>\n",
       "      <td>Total</td>\n",
       "    </tr>\n",
       "  </tbody>\n",
       "</table>\n",
       "</div>"
      ],
      "text/plain": [
       "   SEX SEX_LABEL\n",
       "0  001     Total"
      ]
     },
     "metadata": {},
     "output_type": "display_data"
    }
   ],
   "source": [
    "sexes=census[['SEX','SEX_LABEL']].drop_duplicates()\n",
    "sexes_total = sexes.loc[sexes['SEX_LABEL'] == 'Total']\n",
    "sexes = sexes.loc[sexes['SEX_LABEL'] != 'Total']\n",
    "\n",
    "display(sexes)\n",
    "display(sexes_total)"
   ]
  },
  {
   "attachments": {},
   "cell_type": "markdown",
   "metadata": {},
   "source": [
    "For 'RACES' a table was created to find the unique values in this field. TOTAL was removed from the individual values to avoid value duplication but allow for merging only on the total value for other analyses. Also the Rollup categories of Minority, Equally minority/nonminority, and Nonminority were separated out."
   ]
  },
  {
   "cell_type": "code",
   "execution_count": 518,
   "metadata": {},
   "outputs": [
    {
     "data": {
      "text/html": [
       "<div>\n",
       "<style scoped>\n",
       "    .dataframe tbody tr th:only-of-type {\n",
       "        vertical-align: middle;\n",
       "    }\n",
       "\n",
       "    .dataframe tbody tr th {\n",
       "        vertical-align: top;\n",
       "    }\n",
       "\n",
       "    .dataframe thead th {\n",
       "        text-align: right;\n",
       "    }\n",
       "</style>\n",
       "<table border=\"1\" class=\"dataframe\">\n",
       "  <thead>\n",
       "    <tr style=\"text-align: right;\">\n",
       "      <th></th>\n",
       "      <th>RACE_GROUP</th>\n",
       "      <th>RACE_GROUP_LABEL</th>\n",
       "    </tr>\n",
       "  </thead>\n",
       "  <tbody>\n",
       "    <tr>\n",
       "      <th>13</th>\n",
       "      <td>00</td>\n",
       "      <td>Total</td>\n",
       "    </tr>\n",
       "  </tbody>\n",
       "</table>\n",
       "</div>"
      ],
      "text/plain": [
       "   RACE_GROUP RACE_GROUP_LABEL\n",
       "13         00            Total"
      ]
     },
     "metadata": {},
     "output_type": "display_data"
    },
    {
     "data": {
      "text/html": [
       "<div>\n",
       "<style scoped>\n",
       "    .dataframe tbody tr th:only-of-type {\n",
       "        vertical-align: middle;\n",
       "    }\n",
       "\n",
       "    .dataframe tbody tr th {\n",
       "        vertical-align: top;\n",
       "    }\n",
       "\n",
       "    .dataframe thead th {\n",
       "        text-align: right;\n",
       "    }\n",
       "</style>\n",
       "<table border=\"1\" class=\"dataframe\">\n",
       "  <thead>\n",
       "    <tr style=\"text-align: right;\">\n",
       "      <th></th>\n",
       "      <th>RACE_GROUP</th>\n",
       "      <th>RACE_GROUP_LABEL</th>\n",
       "    </tr>\n",
       "  </thead>\n",
       "  <tbody>\n",
       "    <tr>\n",
       "      <th>0</th>\n",
       "      <td>30</td>\n",
       "      <td>White</td>\n",
       "    </tr>\n",
       "    <tr>\n",
       "      <th>1</th>\n",
       "      <td>90</td>\n",
       "      <td>Minority</td>\n",
       "    </tr>\n",
       "    <tr>\n",
       "      <th>2</th>\n",
       "      <td>91</td>\n",
       "      <td>Equally minority/nonminority</td>\n",
       "    </tr>\n",
       "    <tr>\n",
       "      <th>4</th>\n",
       "      <td>92</td>\n",
       "      <td>Nonminority</td>\n",
       "    </tr>\n",
       "    <tr>\n",
       "      <th>5</th>\n",
       "      <td>40</td>\n",
       "      <td>Black or African American</td>\n",
       "    </tr>\n",
       "    <tr>\n",
       "      <th>9</th>\n",
       "      <td>50</td>\n",
       "      <td>American Indian and Alaska Native</td>\n",
       "    </tr>\n",
       "    <tr>\n",
       "      <th>18</th>\n",
       "      <td>60</td>\n",
       "      <td>Asian</td>\n",
       "    </tr>\n",
       "    <tr>\n",
       "      <th>312</th>\n",
       "      <td>70</td>\n",
       "      <td>Native Hawaiian and Other Pacific Islander</td>\n",
       "    </tr>\n",
       "  </tbody>\n",
       "</table>\n",
       "</div>"
      ],
      "text/plain": [
       "    RACE_GROUP                            RACE_GROUP_LABEL\n",
       "0           30                                       White\n",
       "1           90                                    Minority\n",
       "2           91                Equally minority/nonminority\n",
       "4           92                                 Nonminority\n",
       "5           40                   Black or African American\n",
       "9           50           American Indian and Alaska Native\n",
       "18          60                                       Asian\n",
       "312         70  Native Hawaiian and Other Pacific Islander"
      ]
     },
     "metadata": {},
     "output_type": "display_data"
    },
    {
     "data": {
      "text/html": [
       "<div>\n",
       "<style scoped>\n",
       "    .dataframe tbody tr th:only-of-type {\n",
       "        vertical-align: middle;\n",
       "    }\n",
       "\n",
       "    .dataframe tbody tr th {\n",
       "        vertical-align: top;\n",
       "    }\n",
       "\n",
       "    .dataframe thead th {\n",
       "        text-align: right;\n",
       "    }\n",
       "</style>\n",
       "<table border=\"1\" class=\"dataframe\">\n",
       "  <thead>\n",
       "    <tr style=\"text-align: right;\">\n",
       "      <th></th>\n",
       "      <th>RACE_GROUP</th>\n",
       "      <th>RACE_GROUP_LABEL</th>\n",
       "    </tr>\n",
       "  </thead>\n",
       "  <tbody>\n",
       "    <tr>\n",
       "      <th>1</th>\n",
       "      <td>90</td>\n",
       "      <td>Minority</td>\n",
       "    </tr>\n",
       "    <tr>\n",
       "      <th>2</th>\n",
       "      <td>91</td>\n",
       "      <td>Equally minority/nonminority</td>\n",
       "    </tr>\n",
       "    <tr>\n",
       "      <th>4</th>\n",
       "      <td>92</td>\n",
       "      <td>Nonminority</td>\n",
       "    </tr>\n",
       "  </tbody>\n",
       "</table>\n",
       "</div>"
      ],
      "text/plain": [
       "  RACE_GROUP              RACE_GROUP_LABEL\n",
       "1         90                      Minority\n",
       "2         91  Equally minority/nonminority\n",
       "4         92                   Nonminority"
      ]
     },
     "metadata": {},
     "output_type": "display_data"
    },
    {
     "data": {
      "text/html": [
       "<div>\n",
       "<style scoped>\n",
       "    .dataframe tbody tr th:only-of-type {\n",
       "        vertical-align: middle;\n",
       "    }\n",
       "\n",
       "    .dataframe tbody tr th {\n",
       "        vertical-align: top;\n",
       "    }\n",
       "\n",
       "    .dataframe thead th {\n",
       "        text-align: right;\n",
       "    }\n",
       "</style>\n",
       "<table border=\"1\" class=\"dataframe\">\n",
       "  <thead>\n",
       "    <tr style=\"text-align: right;\">\n",
       "      <th></th>\n",
       "      <th>RACE_GROUP</th>\n",
       "      <th>RACE_GROUP_LABEL</th>\n",
       "    </tr>\n",
       "  </thead>\n",
       "  <tbody>\n",
       "    <tr>\n",
       "      <th>0</th>\n",
       "      <td>30</td>\n",
       "      <td>White</td>\n",
       "    </tr>\n",
       "    <tr>\n",
       "      <th>5</th>\n",
       "      <td>40</td>\n",
       "      <td>Black or African American</td>\n",
       "    </tr>\n",
       "    <tr>\n",
       "      <th>9</th>\n",
       "      <td>50</td>\n",
       "      <td>American Indian and Alaska Native</td>\n",
       "    </tr>\n",
       "    <tr>\n",
       "      <th>18</th>\n",
       "      <td>60</td>\n",
       "      <td>Asian</td>\n",
       "    </tr>\n",
       "    <tr>\n",
       "      <th>312</th>\n",
       "      <td>70</td>\n",
       "      <td>Native Hawaiian and Other Pacific Islander</td>\n",
       "    </tr>\n",
       "  </tbody>\n",
       "</table>\n",
       "</div>"
      ],
      "text/plain": [
       "    RACE_GROUP                            RACE_GROUP_LABEL\n",
       "0           30                                       White\n",
       "5           40                   Black or African American\n",
       "9           50           American Indian and Alaska Native\n",
       "18          60                                       Asian\n",
       "312         70  Native Hawaiian and Other Pacific Islander"
      ]
     },
     "metadata": {},
     "output_type": "display_data"
    }
   ],
   "source": [
    "races_all=census[['RACE_GROUP','RACE_GROUP_LABEL']].drop_duplicates()\n",
    "races_total = races_all.loc[races_all['RACE_GROUP_LABEL']=='Total']\n",
    "display(races_total)\n",
    "\n",
    "races_all = races_all.loc[races_all['RACE_GROUP_LABEL'] !='Total']\n",
    "display(races_all)\n",
    "\n",
    "races_rollup = races_all.loc[races_all['RACE_GROUP_LABEL'].isin(['Minority','Nonminority','Equally minority/nonminority'])]\n",
    "display(races_rollup)\n",
    "\n",
    "races = races_all.loc[~races_all['RACE_GROUP_LABEL'].isin(['Minority','Nonminority','Equally minority/nonminority'])]\n",
    "display(races)"
   ]
  },
  {
   "attachments": {},
   "cell_type": "markdown",
   "metadata": {},
   "source": [
    "For 'VET_STATUSES' a table was created to find the unique values in this field. TOTAL was removed from the individual values to avoid value duplication but allow for merging only on the total value for other analyses. "
   ]
  },
  {
   "cell_type": "code",
   "execution_count": 519,
   "metadata": {},
   "outputs": [
    {
     "data": {
      "text/html": [
       "<div>\n",
       "<style scoped>\n",
       "    .dataframe tbody tr th:only-of-type {\n",
       "        vertical-align: middle;\n",
       "    }\n",
       "\n",
       "    .dataframe tbody tr th {\n",
       "        vertical-align: top;\n",
       "    }\n",
       "\n",
       "    .dataframe thead th {\n",
       "        text-align: right;\n",
       "    }\n",
       "</style>\n",
       "<table border=\"1\" class=\"dataframe\">\n",
       "  <thead>\n",
       "    <tr style=\"text-align: right;\">\n",
       "      <th></th>\n",
       "      <th>VET_GROUP</th>\n",
       "      <th>VET_GROUP_LABEL</th>\n",
       "    </tr>\n",
       "  </thead>\n",
       "  <tbody>\n",
       "    <tr>\n",
       "      <th>0</th>\n",
       "      <td>003</td>\n",
       "      <td>Equally veteran/nonveteran</td>\n",
       "    </tr>\n",
       "    <tr>\n",
       "      <th>1</th>\n",
       "      <td>001</td>\n",
       "      <td>Total</td>\n",
       "    </tr>\n",
       "    <tr>\n",
       "      <th>13</th>\n",
       "      <td>002</td>\n",
       "      <td>Veteran</td>\n",
       "    </tr>\n",
       "    <tr>\n",
       "      <th>14</th>\n",
       "      <td>004</td>\n",
       "      <td>Nonveteran</td>\n",
       "    </tr>\n",
       "  </tbody>\n",
       "</table>\n",
       "</div>"
      ],
      "text/plain": [
       "   VET_GROUP             VET_GROUP_LABEL\n",
       "0        003  Equally veteran/nonveteran\n",
       "1        001                       Total\n",
       "13       002                     Veteran\n",
       "14       004                  Nonveteran"
      ]
     },
     "metadata": {},
     "output_type": "display_data"
    },
    {
     "data": {
      "text/html": [
       "<div>\n",
       "<style scoped>\n",
       "    .dataframe tbody tr th:only-of-type {\n",
       "        vertical-align: middle;\n",
       "    }\n",
       "\n",
       "    .dataframe tbody tr th {\n",
       "        vertical-align: top;\n",
       "    }\n",
       "\n",
       "    .dataframe thead th {\n",
       "        text-align: right;\n",
       "    }\n",
       "</style>\n",
       "<table border=\"1\" class=\"dataframe\">\n",
       "  <thead>\n",
       "    <tr style=\"text-align: right;\">\n",
       "      <th></th>\n",
       "      <th>VET_GROUP</th>\n",
       "      <th>VET_GROUP_LABEL</th>\n",
       "    </tr>\n",
       "  </thead>\n",
       "  <tbody>\n",
       "    <tr>\n",
       "      <th>1</th>\n",
       "      <td>001</td>\n",
       "      <td>Total</td>\n",
       "    </tr>\n",
       "  </tbody>\n",
       "</table>\n",
       "</div>"
      ],
      "text/plain": [
       "  VET_GROUP VET_GROUP_LABEL\n",
       "1       001           Total"
      ]
     },
     "metadata": {},
     "output_type": "display_data"
    },
    {
     "data": {
      "text/html": [
       "<div>\n",
       "<style scoped>\n",
       "    .dataframe tbody tr th:only-of-type {\n",
       "        vertical-align: middle;\n",
       "    }\n",
       "\n",
       "    .dataframe tbody tr th {\n",
       "        vertical-align: top;\n",
       "    }\n",
       "\n",
       "    .dataframe thead th {\n",
       "        text-align: right;\n",
       "    }\n",
       "</style>\n",
       "<table border=\"1\" class=\"dataframe\">\n",
       "  <thead>\n",
       "    <tr style=\"text-align: right;\">\n",
       "      <th></th>\n",
       "      <th>VET_GROUP</th>\n",
       "      <th>VET_GROUP_LABEL</th>\n",
       "    </tr>\n",
       "  </thead>\n",
       "  <tbody>\n",
       "    <tr>\n",
       "      <th>0</th>\n",
       "      <td>003</td>\n",
       "      <td>Equally veteran/nonveteran</td>\n",
       "    </tr>\n",
       "    <tr>\n",
       "      <th>13</th>\n",
       "      <td>002</td>\n",
       "      <td>Veteran</td>\n",
       "    </tr>\n",
       "    <tr>\n",
       "      <th>14</th>\n",
       "      <td>004</td>\n",
       "      <td>Nonveteran</td>\n",
       "    </tr>\n",
       "  </tbody>\n",
       "</table>\n",
       "</div>"
      ],
      "text/plain": [
       "   VET_GROUP             VET_GROUP_LABEL\n",
       "0        003  Equally veteran/nonveteran\n",
       "13       002                     Veteran\n",
       "14       004                  Nonveteran"
      ]
     },
     "metadata": {},
     "output_type": "display_data"
    }
   ],
   "source": [
    "vet_statuses=census[['VET_GROUP','VET_GROUP_LABEL']].drop_duplicates()\n",
    "vet_statuses_total=vet_statuses.loc[vet_statuses['VET_GROUP_LABEL']==\"Total\"]\n",
    "vet_statuses_notot = vet_statuses.loc[vet_statuses['VET_GROUP_LABEL']!=\"Total\"]\n",
    "display(vet_statuses)\n",
    "display(vet_statuses_total)\n",
    "display(vet_statuses_notot)"
   ]
  },
  {
   "attachments": {},
   "cell_type": "markdown",
   "metadata": {},
   "source": [
    "For Industry Sector groupings, a table was created to find the unique values in this field. TOTAL was removed from the individual values to avoid value duplication but allow for merging only on the total value for other analyses. In this case filtering for string length of 2 and 5 on the 'NAICS2017' code allowed for a drastic reduction in industry listings to only the main 19 sectors. Some groupings from the census list a range of numbers (e.g. 31-33)."
   ]
  },
  {
   "cell_type": "code",
   "execution_count": 520,
   "metadata": {},
   "outputs": [
    {
     "data": {
      "text/html": [
       "<div>\n",
       "<style scoped>\n",
       "    .dataframe tbody tr th:only-of-type {\n",
       "        vertical-align: middle;\n",
       "    }\n",
       "\n",
       "    .dataframe tbody tr th {\n",
       "        vertical-align: top;\n",
       "    }\n",
       "\n",
       "    .dataframe thead th {\n",
       "        text-align: right;\n",
       "    }\n",
       "</style>\n",
       "<table border=\"1\" class=\"dataframe\">\n",
       "  <thead>\n",
       "    <tr style=\"text-align: right;\">\n",
       "      <th></th>\n",
       "      <th>NAICS2017</th>\n",
       "      <th>NAICS2017_LABEL</th>\n",
       "    </tr>\n",
       "  </thead>\n",
       "  <tbody>\n",
       "    <tr>\n",
       "      <th>0</th>\n",
       "      <td>21</td>\n",
       "      <td>Mining, quarrying, and oil and gas extraction</td>\n",
       "    </tr>\n",
       "    <tr>\n",
       "      <th>1</th>\n",
       "      <td>23</td>\n",
       "      <td>Construction</td>\n",
       "    </tr>\n",
       "    <tr>\n",
       "      <th>2</th>\n",
       "      <td>31-33</td>\n",
       "      <td>Manufacturing</td>\n",
       "    </tr>\n",
       "    <tr>\n",
       "      <th>3</th>\n",
       "      <td>42</td>\n",
       "      <td>Wholesale trade</td>\n",
       "    </tr>\n",
       "    <tr>\n",
       "      <th>4</th>\n",
       "      <td>48-49</td>\n",
       "      <td>Transportation and warehousing</td>\n",
       "    </tr>\n",
       "    <tr>\n",
       "      <th>5</th>\n",
       "      <td>44-45</td>\n",
       "      <td>Retail trade</td>\n",
       "    </tr>\n",
       "    <tr>\n",
       "      <th>6</th>\n",
       "      <td>11</td>\n",
       "      <td>Agriculture, forestry, fishing and hunting</td>\n",
       "    </tr>\n",
       "    <tr>\n",
       "      <th>7</th>\n",
       "      <td>22</td>\n",
       "      <td>Utilities</td>\n",
       "    </tr>\n",
       "    <tr>\n",
       "      <th>8</th>\n",
       "      <td>52</td>\n",
       "      <td>Finance and insurance</td>\n",
       "    </tr>\n",
       "    <tr>\n",
       "      <th>9</th>\n",
       "      <td>54</td>\n",
       "      <td>Professional, scientific, and technical services</td>\n",
       "    </tr>\n",
       "    <tr>\n",
       "      <th>10</th>\n",
       "      <td>56</td>\n",
       "      <td>Administrative and support and waste managemen...</td>\n",
       "    </tr>\n",
       "    <tr>\n",
       "      <th>11</th>\n",
       "      <td>62</td>\n",
       "      <td>Health care and social assistance</td>\n",
       "    </tr>\n",
       "    <tr>\n",
       "      <th>12</th>\n",
       "      <td>71</td>\n",
       "      <td>Arts, entertainment, and recreation</td>\n",
       "    </tr>\n",
       "    <tr>\n",
       "      <th>13</th>\n",
       "      <td>72</td>\n",
       "      <td>Accommodation and food services</td>\n",
       "    </tr>\n",
       "    <tr>\n",
       "      <th>14</th>\n",
       "      <td>81</td>\n",
       "      <td>Other services (except public administration)</td>\n",
       "    </tr>\n",
       "    <tr>\n",
       "      <th>15</th>\n",
       "      <td>51</td>\n",
       "      <td>Information</td>\n",
       "    </tr>\n",
       "    <tr>\n",
       "      <th>16</th>\n",
       "      <td>55</td>\n",
       "      <td>Management of companies and enterprises</td>\n",
       "    </tr>\n",
       "    <tr>\n",
       "      <th>17</th>\n",
       "      <td>53</td>\n",
       "      <td>Real estate and rental and leasing</td>\n",
       "    </tr>\n",
       "    <tr>\n",
       "      <th>18</th>\n",
       "      <td>99</td>\n",
       "      <td>Industries not classified</td>\n",
       "    </tr>\n",
       "    <tr>\n",
       "      <th>19</th>\n",
       "      <td>61</td>\n",
       "      <td>Educational services</td>\n",
       "    </tr>\n",
       "  </tbody>\n",
       "</table>\n",
       "</div>"
      ],
      "text/plain": [
       "   NAICS2017                                    NAICS2017_LABEL\n",
       "0         21      Mining, quarrying, and oil and gas extraction\n",
       "1         23                                       Construction\n",
       "2      31-33                                      Manufacturing\n",
       "3         42                                    Wholesale trade\n",
       "4      48-49                     Transportation and warehousing\n",
       "5      44-45                                       Retail trade\n",
       "6         11         Agriculture, forestry, fishing and hunting\n",
       "7         22                                          Utilities\n",
       "8         52                              Finance and insurance\n",
       "9         54   Professional, scientific, and technical services\n",
       "10        56  Administrative and support and waste managemen...\n",
       "11        62                  Health care and social assistance\n",
       "12        71                Arts, entertainment, and recreation\n",
       "13        72                    Accommodation and food services\n",
       "14        81      Other services (except public administration)\n",
       "15        51                                        Information\n",
       "16        55            Management of companies and enterprises\n",
       "17        53                 Real estate and rental and leasing\n",
       "18        99                          Industries not classified\n",
       "19        61                               Educational services"
      ]
     },
     "metadata": {},
     "output_type": "display_data"
    },
    {
     "data": {
      "text/html": [
       "<div>\n",
       "<style scoped>\n",
       "    .dataframe tbody tr th:only-of-type {\n",
       "        vertical-align: middle;\n",
       "    }\n",
       "\n",
       "    .dataframe tbody tr th {\n",
       "        vertical-align: top;\n",
       "    }\n",
       "\n",
       "    .dataframe thead th {\n",
       "        text-align: right;\n",
       "    }\n",
       "</style>\n",
       "<table border=\"1\" class=\"dataframe\">\n",
       "  <thead>\n",
       "    <tr style=\"text-align: right;\">\n",
       "      <th></th>\n",
       "      <th>NAICS2017</th>\n",
       "      <th>NAICS2017_LABEL</th>\n",
       "    </tr>\n",
       "  </thead>\n",
       "  <tbody>\n",
       "    <tr>\n",
       "      <th>0</th>\n",
       "      <td>00</td>\n",
       "      <td>Total for all sectors</td>\n",
       "    </tr>\n",
       "  </tbody>\n",
       "</table>\n",
       "</div>"
      ],
      "text/plain": [
       "  NAICS2017        NAICS2017_LABEL\n",
       "0        00  Total for all sectors"
      ]
     },
     "metadata": {},
     "output_type": "display_data"
    }
   ],
   "source": [
    "all_sectors = census[['NAICS2017','NAICS2017_LABEL']].drop_duplicates()\n",
    "sectors = all_sectors[all_sectors['NAICS2017'].str.len().isin([2,5])]\n",
    "sectors_tot = sectors.loc[sectors['NAICS2017_LABEL']=='Total for all sectors']\n",
    "sectors = sectors.loc[sectors['NAICS2017_LABEL']!='Total for all sectors']\n",
    "sectors.reset_index(drop=True,inplace=True)\n",
    "display(sectors)\n",
    "display(sectors_tot)"
   ]
  },
  {
   "attachments": {},
   "cell_type": "markdown",
   "metadata": {},
   "source": [
    "# RESULTS\n",
    "## Alex [topic]"
   ]
  },
  {
   "attachments": {},
   "cell_type": "markdown",
   "metadata": {},
   "source": [
    "## Vanessa [topic]"
   ]
  },
  {
   "attachments": {},
   "cell_type": "markdown",
   "metadata": {},
   "source": [
    "## Jessica VETERAN STATUS\n",
    "This section investigates differences in annual revenue per employee based on state and veteran status in the 2019.  \n",
    "\n",
    "By merging the previously normalized tables on matching keys, I was able to investigate different demographic breakouts of the main numerical data of interest for my study: number of employees ('EMP') and annual pay ('PAYANN')."
   ]
  },
  {
   "cell_type": "code",
   "execution_count": 632,
   "metadata": {},
   "outputs": [],
   "source": [
    "cdf = pd.merge(census,vet_statuses,how='inner',on='VET_GROUP_LABEL')\n",
    "cdf = pd.merge(cdf,sexes,how='inner',on='SEX_LABEL')\n",
    "cdf = pd.merge(cdf,races,how='inner',on='RACE_GROUP_LABEL')\n",
    "cdf = pd.merge(cdf,sectors,how='inner',on='NAICS2017_LABEL')\n",
    "cdf = cdf[['YEAR','NAICS2017_x','NAICS2017_LABEL','NAME','EMP','PAYANN','SEX_LABEL','RACE_GROUP_LABEL','VET_GROUP_LABEL']]\n",
    "# display(cdf.head(5))\n",
    "\n",
    "cdf_us = pd.merge(census_us,vet_statuses_total,how='inner',on='VET_GROUP_LABEL')\n",
    "cdf_us = pd.merge(cdf_us,sexes_total,how='inner',on='SEX_LABEL')\n",
    "cdf_us = pd.merge(cdf_us,races_total,how='inner',on='RACE_GROUP_LABEL')\n",
    "cdf_us = pd.merge(cdf_us,sectors,how='inner',on='NAICS2017_LABEL')\n",
    "cdf_us = cdf_us[['YEAR','NAICS2017_x','NAICS2017_LABEL','NAME','EMP','PAYANN','SEX_LABEL','RACE_GROUP_LABEL','VET_GROUP_LABEL']]\n",
    "# display(cdf_us.head(5))\n"
   ]
  },
  {
   "attachments": {},
   "cell_type": "markdown",
   "metadata": {},
   "source": [
    "Converting annual pay variable from an object to a numeric type permitted aggregate calculations, namely 'mean.' Taking a quick look at the pivot tables made it clear that there would be issues breaking the data down further into races of veterans or male and female veterans, which informed future analysis at the state level for all veterans (total)."
   ]
  },
  {
   "cell_type": "code",
   "execution_count": 271,
   "metadata": {},
   "outputs": [
    {
     "data": {
      "text/html": [
       "<div>\n",
       "<style scoped>\n",
       "    .dataframe tbody tr th:only-of-type {\n",
       "        vertical-align: middle;\n",
       "    }\n",
       "\n",
       "    .dataframe tbody tr th {\n",
       "        vertical-align: top;\n",
       "    }\n",
       "\n",
       "    .dataframe thead th {\n",
       "        text-align: right;\n",
       "    }\n",
       "</style>\n",
       "<table border=\"1\" class=\"dataframe\">\n",
       "  <thead>\n",
       "    <tr style=\"text-align: right;\">\n",
       "      <th></th>\n",
       "      <th></th>\n",
       "      <th></th>\n",
       "      <th></th>\n",
       "      <th></th>\n",
       "      <th>PAYANN</th>\n",
       "    </tr>\n",
       "    <tr>\n",
       "      <th>YEAR</th>\n",
       "      <th>NAME</th>\n",
       "      <th>SEX_LABEL</th>\n",
       "      <th>VET_GROUP_LABEL</th>\n",
       "      <th>RACE_GROUP_LABEL</th>\n",
       "      <th></th>\n",
       "    </tr>\n",
       "  </thead>\n",
       "  <tbody>\n",
       "    <tr>\n",
       "      <th rowspan=\"10\" valign=\"top\">2018</th>\n",
       "      <th rowspan=\"10\" valign=\"top\">Alabama</th>\n",
       "      <th rowspan=\"10\" valign=\"top\">Equally male/female</th>\n",
       "      <th rowspan=\"2\" valign=\"top\">Equally veteran/nonveteran</th>\n",
       "      <th>Black or African American</th>\n",
       "      <td>0.000000</td>\n",
       "    </tr>\n",
       "    <tr>\n",
       "      <th>White</th>\n",
       "      <td>875.000000</td>\n",
       "    </tr>\n",
       "    <tr>\n",
       "      <th rowspan=\"4\" valign=\"top\">Nonveteran</th>\n",
       "      <th>American Indian and Alaska Native</th>\n",
       "      <td>0.000000</td>\n",
       "    </tr>\n",
       "    <tr>\n",
       "      <th>Asian</th>\n",
       "      <td>0.000000</td>\n",
       "    </tr>\n",
       "    <tr>\n",
       "      <th>Black or African American</th>\n",
       "      <td>514.285714</td>\n",
       "    </tr>\n",
       "    <tr>\n",
       "      <th>White</th>\n",
       "      <td>38961.050000</td>\n",
       "    </tr>\n",
       "    <tr>\n",
       "      <th rowspan=\"4\" valign=\"top\">Total</th>\n",
       "      <th>American Indian and Alaska Native</th>\n",
       "      <td>0.000000</td>\n",
       "    </tr>\n",
       "    <tr>\n",
       "      <th>Asian</th>\n",
       "      <td>0.000000</td>\n",
       "    </tr>\n",
       "    <tr>\n",
       "      <th>Black or African American</th>\n",
       "      <td>514.285714</td>\n",
       "    </tr>\n",
       "    <tr>\n",
       "      <th>White</th>\n",
       "      <td>54957.550000</td>\n",
       "    </tr>\n",
       "  </tbody>\n",
       "</table>\n",
       "</div>"
      ],
      "text/plain": [
       "                                                                                                     PAYANN\n",
       "YEAR NAME    SEX_LABEL           VET_GROUP_LABEL            RACE_GROUP_LABEL                               \n",
       "2018 Alabama Equally male/female Equally veteran/nonveteran Black or African American              0.000000\n",
       "                                                            White                                875.000000\n",
       "                                 Nonveteran                 American Indian and Alaska Native      0.000000\n",
       "                                                            Asian                                  0.000000\n",
       "                                                            Black or African American            514.285714\n",
       "                                                            White                              38961.050000\n",
       "                                 Total                      American Indian and Alaska Native      0.000000\n",
       "                                                            Asian                                  0.000000\n",
       "                                                            Black or African American            514.285714\n",
       "                                                            White                              54957.550000"
      ]
     },
     "metadata": {},
     "output_type": "display_data"
    },
    {
     "data": {
      "text/html": [
       "<div>\n",
       "<style scoped>\n",
       "    .dataframe tbody tr th:only-of-type {\n",
       "        vertical-align: middle;\n",
       "    }\n",
       "\n",
       "    .dataframe tbody tr th {\n",
       "        vertical-align: top;\n",
       "    }\n",
       "\n",
       "    .dataframe thead th {\n",
       "        text-align: right;\n",
       "    }\n",
       "</style>\n",
       "<table border=\"1\" class=\"dataframe\">\n",
       "  <thead>\n",
       "    <tr style=\"text-align: right;\">\n",
       "      <th></th>\n",
       "      <th></th>\n",
       "      <th></th>\n",
       "      <th>RACE_GROUP_LABEL</th>\n",
       "      <th>American Indian and Alaska Native</th>\n",
       "      <th>Asian</th>\n",
       "      <th>Black or African American</th>\n",
       "      <th>Native Hawaiian and Other Pacific Islander</th>\n",
       "      <th>White</th>\n",
       "    </tr>\n",
       "    <tr>\n",
       "      <th>YEAR</th>\n",
       "      <th>NAME</th>\n",
       "      <th>SEX_LABEL</th>\n",
       "      <th>VET_GROUP_LABEL</th>\n",
       "      <th></th>\n",
       "      <th></th>\n",
       "      <th></th>\n",
       "      <th></th>\n",
       "      <th></th>\n",
       "    </tr>\n",
       "  </thead>\n",
       "  <tbody>\n",
       "    <tr>\n",
       "      <th rowspan=\"10\" valign=\"top\">2018</th>\n",
       "      <th rowspan=\"10\" valign=\"top\">Alabama</th>\n",
       "      <th rowspan=\"4\" valign=\"top\">Equally male/female</th>\n",
       "      <th>Equally veteran/nonveteran</th>\n",
       "      <td>NaN</td>\n",
       "      <td>NaN</td>\n",
       "      <td>0.000000</td>\n",
       "      <td>NaN</td>\n",
       "      <td>875.00</td>\n",
       "    </tr>\n",
       "    <tr>\n",
       "      <th>Nonveteran</th>\n",
       "      <td>0.000000</td>\n",
       "      <td>0.000000</td>\n",
       "      <td>514.285714</td>\n",
       "      <td>NaN</td>\n",
       "      <td>38961.05</td>\n",
       "    </tr>\n",
       "    <tr>\n",
       "      <th>Total</th>\n",
       "      <td>0.000000</td>\n",
       "      <td>0.000000</td>\n",
       "      <td>514.285714</td>\n",
       "      <td>NaN</td>\n",
       "      <td>54957.55</td>\n",
       "    </tr>\n",
       "    <tr>\n",
       "      <th>Veteran</th>\n",
       "      <td>NaN</td>\n",
       "      <td>NaN</td>\n",
       "      <td>0.000000</td>\n",
       "      <td>NaN</td>\n",
       "      <td>0.00</td>\n",
       "    </tr>\n",
       "    <tr>\n",
       "      <th rowspan=\"3\" valign=\"top\">Female</th>\n",
       "      <th>Nonveteran</th>\n",
       "      <td>6831.777778</td>\n",
       "      <td>19743.833333</td>\n",
       "      <td>2188.200000</td>\n",
       "      <td>0.0</td>\n",
       "      <td>107315.65</td>\n",
       "    </tr>\n",
       "    <tr>\n",
       "      <th>Total</th>\n",
       "      <td>6831.777778</td>\n",
       "      <td>19743.833333</td>\n",
       "      <td>2188.200000</td>\n",
       "      <td>0.0</td>\n",
       "      <td>108058.60</td>\n",
       "    </tr>\n",
       "    <tr>\n",
       "      <th>Veteran</th>\n",
       "      <td>NaN</td>\n",
       "      <td>NaN</td>\n",
       "      <td>0.000000</td>\n",
       "      <td>NaN</td>\n",
       "      <td>0.00</td>\n",
       "    </tr>\n",
       "    <tr>\n",
       "      <th rowspan=\"3\" valign=\"top\">Male</th>\n",
       "      <th>Equally veteran/nonveteran</th>\n",
       "      <td>NaN</td>\n",
       "      <td>NaN</td>\n",
       "      <td>0.000000</td>\n",
       "      <td>NaN</td>\n",
       "      <td>0.00</td>\n",
       "    </tr>\n",
       "    <tr>\n",
       "      <th>Nonveteran</th>\n",
       "      <td>0.000000</td>\n",
       "      <td>36520.437500</td>\n",
       "      <td>2497.187500</td>\n",
       "      <td>0.0</td>\n",
       "      <td>958332.90</td>\n",
       "    </tr>\n",
       "    <tr>\n",
       "      <th>Total</th>\n",
       "      <td>0.000000</td>\n",
       "      <td>37011.312500</td>\n",
       "      <td>7797.235294</td>\n",
       "      <td>0.0</td>\n",
       "      <td>1175216.85</td>\n",
       "    </tr>\n",
       "  </tbody>\n",
       "</table>\n",
       "</div>"
      ],
      "text/plain": [
       "RACE_GROUP_LABEL                                             American Indian and Alaska Native  \\\n",
       "YEAR NAME    SEX_LABEL           VET_GROUP_LABEL                                                 \n",
       "2018 Alabama Equally male/female Equally veteran/nonveteran                                NaN   \n",
       "                                 Nonveteran                                           0.000000   \n",
       "                                 Total                                                0.000000   \n",
       "                                 Veteran                                                   NaN   \n",
       "             Female              Nonveteran                                        6831.777778   \n",
       "                                 Total                                             6831.777778   \n",
       "                                 Veteran                                                   NaN   \n",
       "             Male                Equally veteran/nonveteran                                NaN   \n",
       "                                 Nonveteran                                           0.000000   \n",
       "                                 Total                                                0.000000   \n",
       "\n",
       "RACE_GROUP_LABEL                                                    Asian  \\\n",
       "YEAR NAME    SEX_LABEL           VET_GROUP_LABEL                            \n",
       "2018 Alabama Equally male/female Equally veteran/nonveteran           NaN   \n",
       "                                 Nonveteran                      0.000000   \n",
       "                                 Total                           0.000000   \n",
       "                                 Veteran                              NaN   \n",
       "             Female              Nonveteran                  19743.833333   \n",
       "                                 Total                       19743.833333   \n",
       "                                 Veteran                              NaN   \n",
       "             Male                Equally veteran/nonveteran           NaN   \n",
       "                                 Nonveteran                  36520.437500   \n",
       "                                 Total                       37011.312500   \n",
       "\n",
       "RACE_GROUP_LABEL                                             Black or African American  \\\n",
       "YEAR NAME    SEX_LABEL           VET_GROUP_LABEL                                         \n",
       "2018 Alabama Equally male/female Equally veteran/nonveteran                   0.000000   \n",
       "                                 Nonveteran                                 514.285714   \n",
       "                                 Total                                      514.285714   \n",
       "                                 Veteran                                      0.000000   \n",
       "             Female              Nonveteran                                2188.200000   \n",
       "                                 Total                                     2188.200000   \n",
       "                                 Veteran                                      0.000000   \n",
       "             Male                Equally veteran/nonveteran                   0.000000   \n",
       "                                 Nonveteran                                2497.187500   \n",
       "                                 Total                                     7797.235294   \n",
       "\n",
       "RACE_GROUP_LABEL                                             Native Hawaiian and Other Pacific Islander  \\\n",
       "YEAR NAME    SEX_LABEL           VET_GROUP_LABEL                                                          \n",
       "2018 Alabama Equally male/female Equally veteran/nonveteran                                         NaN   \n",
       "                                 Nonveteran                                                         NaN   \n",
       "                                 Total                                                              NaN   \n",
       "                                 Veteran                                                            NaN   \n",
       "             Female              Nonveteran                                                         0.0   \n",
       "                                 Total                                                              0.0   \n",
       "                                 Veteran                                                            NaN   \n",
       "             Male                Equally veteran/nonveteran                                         NaN   \n",
       "                                 Nonveteran                                                         0.0   \n",
       "                                 Total                                                              0.0   \n",
       "\n",
       "RACE_GROUP_LABEL                                                  White  \n",
       "YEAR NAME    SEX_LABEL           VET_GROUP_LABEL                         \n",
       "2018 Alabama Equally male/female Equally veteran/nonveteran      875.00  \n",
       "                                 Nonveteran                    38961.05  \n",
       "                                 Total                         54957.55  \n",
       "                                 Veteran                           0.00  \n",
       "             Female              Nonveteran                   107315.65  \n",
       "                                 Total                        108058.60  \n",
       "                                 Veteran                           0.00  \n",
       "             Male                Equally veteran/nonveteran        0.00  \n",
       "                                 Nonveteran                   958332.90  \n",
       "                                 Total                       1175216.85  "
      ]
     },
     "metadata": {},
     "output_type": "display_data"
    }
   ],
   "source": [
    "# Convert the PAYANN column from string(object) to a numeric type\n",
    "cdf['PAYANN'] = pd.to_numeric(cdf['PAYANN'])\n",
    "cdf['EMP'] = pd.to_numeric(cdf['EMP'])\n",
    "\n",
    "# Pivot the data to create a multi-level index with state, sex, veteran status\n",
    "pivot = pd.pivot_table(cdf, values='PAYANN', index=['YEAR','NAME', 'SEX_LABEL', 'VET_GROUP_LABEL','RACE_GROUP_LABEL'], aggfunc='mean')\n",
    "display(pivot.head(10))\n",
    "\n",
    "# Pivot the data to create a multi-level index with state, sex, veteran status\n",
    "pivot2 = pd.pivot_table(cdf, values='PAYANN', index=['YEAR','NAME', 'SEX_LABEL', 'VET_GROUP_LABEL'],columns='RACE_GROUP_LABEL', aggfunc='mean')\n",
    "display(pivot2.head(10))"
   ]
  },
  {
   "attachments": {},
   "cell_type": "markdown",
   "metadata": {},
   "source": [
    "For this particular section, I only wanted to look at the 2019 dataset. Other code is included to perform similar operators on the '20 and '21 datasets. "
   ]
  },
  {
   "cell_type": "code",
   "execution_count": 633,
   "metadata": {},
   "outputs": [],
   "source": [
    "df2019 = cdf.loc[cdf['YEAR']=='2018'].reset_index(drop=True)\n",
    "# df2020 = cdf.loc[cdf['YEAR']=='2019'].reset_index(drop=True)\n",
    "# df2021 = cdf.loc[cdf['YEAR']=='2020'].reset_index(drop=True)\n",
    "# df2019.head(10)"
   ]
  },
  {
   "attachments": {},
   "cell_type": "markdown",
   "metadata": {},
   "source": [
    "I grouped the 2019 transformed data set by State and Veteran Status, with an aggregated average of the numerical columns: number employees and annual pay. From there I created a new column indicating Revenue per Employee by State and Veteran Status."
   ]
  },
  {
   "cell_type": "code",
   "execution_count": 400,
   "metadata": {},
   "outputs": [
    {
     "name": "stderr",
     "output_type": "stream",
     "text": [
      "C:\\Users\\13073\\AppData\\Local\\Temp\\ipykernel_18452\\589452164.py:4: FutureWarning:\n",
      "\n",
      "The default value of numeric_only in DataFrameGroupBy.mean is deprecated. In a future version, numeric_only will default to False. Either specify numeric_only or select only columns which should be valid for the function.\n",
      "\n"
     ]
    },
    {
     "data": {
      "text/html": [
       "<div>\n",
       "<style scoped>\n",
       "    .dataframe tbody tr th:only-of-type {\n",
       "        vertical-align: middle;\n",
       "    }\n",
       "\n",
       "    .dataframe tbody tr th {\n",
       "        vertical-align: top;\n",
       "    }\n",
       "\n",
       "    .dataframe thead th {\n",
       "        text-align: right;\n",
       "    }\n",
       "</style>\n",
       "<table border=\"1\" class=\"dataframe\">\n",
       "  <thead>\n",
       "    <tr style=\"text-align: right;\">\n",
       "      <th></th>\n",
       "      <th></th>\n",
       "      <th>EMP</th>\n",
       "      <th>PAYANN</th>\n",
       "      <th>revenue_per_employee</th>\n",
       "    </tr>\n",
       "    <tr>\n",
       "      <th>NAME</th>\n",
       "      <th>VET_GROUP_LABEL</th>\n",
       "      <th></th>\n",
       "      <th></th>\n",
       "      <th></th>\n",
       "    </tr>\n",
       "  </thead>\n",
       "  <tbody>\n",
       "    <tr>\n",
       "      <th rowspan=\"4\" valign=\"top\">Alabama</th>\n",
       "      <th>Equally veteran/nonveteran</th>\n",
       "      <td>21.516129</td>\n",
       "      <td>423.387097</td>\n",
       "      <td>19.677661</td>\n",
       "    </tr>\n",
       "    <tr>\n",
       "      <th>Nonveteran</th>\n",
       "      <td>3724.114650</td>\n",
       "      <td>146823.624204</td>\n",
       "      <td>39.425109</td>\n",
       "    </tr>\n",
       "    <tr>\n",
       "      <th>Total</th>\n",
       "      <td>4279.823899</td>\n",
       "      <td>174995.150943</td>\n",
       "      <td>40.888400</td>\n",
       "    </tr>\n",
       "    <tr>\n",
       "      <th>Veteran</th>\n",
       "      <td>164.941176</td>\n",
       "      <td>2976.607843</td>\n",
       "      <td>18.046481</td>\n",
       "    </tr>\n",
       "    <tr>\n",
       "      <th rowspan=\"3\" valign=\"top\">Alaska</th>\n",
       "      <th>Equally veteran/nonveteran</th>\n",
       "      <td>0.000000</td>\n",
       "      <td>0.000000</td>\n",
       "      <td>0.000000</td>\n",
       "    </tr>\n",
       "    <tr>\n",
       "      <th>Nonveteran</th>\n",
       "      <td>371.790541</td>\n",
       "      <td>24625.364865</td>\n",
       "      <td>66.234512</td>\n",
       "    </tr>\n",
       "    <tr>\n",
       "      <th>Total</th>\n",
       "      <td>392.105960</td>\n",
       "      <td>26294.264901</td>\n",
       "      <td>67.059080</td>\n",
       "    </tr>\n",
       "  </tbody>\n",
       "</table>\n",
       "</div>"
      ],
      "text/plain": [
       "                                            EMP         PAYANN  \\\n",
       "NAME    VET_GROUP_LABEL                                          \n",
       "Alabama Equally veteran/nonveteran    21.516129     423.387097   \n",
       "        Nonveteran                  3724.114650  146823.624204   \n",
       "        Total                       4279.823899  174995.150943   \n",
       "        Veteran                      164.941176    2976.607843   \n",
       "Alaska  Equally veteran/nonveteran     0.000000       0.000000   \n",
       "        Nonveteran                   371.790541   24625.364865   \n",
       "        Total                        392.105960   26294.264901   \n",
       "\n",
       "                                    revenue_per_employee  \n",
       "NAME    VET_GROUP_LABEL                                   \n",
       "Alabama Equally veteran/nonveteran             19.677661  \n",
       "        Nonveteran                             39.425109  \n",
       "        Total                                  40.888400  \n",
       "        Veteran                                18.046481  \n",
       "Alaska  Equally veteran/nonveteran              0.000000  \n",
       "        Nonveteran                             66.234512  \n",
       "        Total                                  67.059080  "
      ]
     },
     "execution_count": 400,
     "metadata": {},
     "output_type": "execute_result"
    }
   ],
   "source": [
    "# Remove missing values\n",
    "df2019.dropna(inplace=True)\n",
    "\n",
    "vetpaybystate = df2019.groupby(['NAME','VET_GROUP_LABEL']).agg('mean')\n",
    "vetpaybystate['revenue_per_employee'] = vetpaybystate.apply(lambda row: row['PAYANN']/row['EMP'] if row['EMP'] != 0 else 0,axis=1)\n",
    "vetpaybystate.head(7)"
   ]
  },
  {
   "attachments": {},
   "cell_type": "markdown",
   "metadata": {},
   "source": [
    "I created two bar graphs, one showing the overall average revenue per employee by state (total), and then did a grouped side-by-side bar chart comparing veterans and non veterans by state."
   ]
  },
  {
   "cell_type": "code",
   "execution_count": 729,
   "metadata": {},
   "outputs": [
    {
     "data": {
      "image/png": "[encoded data removed]",
      "text/plain": [
       "<Figure size 864x432 with 1 Axes>"
      ]
     },
     "metadata": {},
     "output_type": "display_data"
    }
   ],
   "source": [
    "plotdata = vetpaybystate.reset_index()\n",
    "# display(plotdata)\n",
    "\n",
    "# create a figure with a wider width\n",
    "fig = plt.figure(figsize=(12, 6))\n",
    "plt.bar(plotdata.NAME, plotdata.revenue_per_employee)\n",
    "\n",
    "# set the x and y axis labels\n",
    "plt.xlabel('State')\n",
    "plt.ylabel('Revenue per Employee ($1000s)')\n",
    "\n",
    "# set the title of the chart\n",
    "plt.title('Average Revenue per Employee by State (Totals)')\n",
    "\n",
    "average = plotdata.revenue_per_employee.mean()\n",
    "# add a dotted line for the average percent veteran\n",
    "plt.axhline(y=average, color='red', linestyle='--')\n",
    "\n",
    "# Add the label for the average line\n",
    "plt.text(28, average + 11, f'Mean of means: {average:.2f}', ha='center', color='red')\n",
    "\n",
    "# rotate the x-axis labels for better readability\n",
    "plt.xticks(rotation=85, ha = 'right')\n",
    "\n",
    "# show the plot\n",
    "plt.show()\n",
    "\n",
    "fig.savefig('jh4.png')"
   ]
  },
  {
   "cell_type": "code",
   "execution_count": 431,
   "metadata": {},
   "outputs": [
    {
     "data": {
      "text/html": [
       "<div>\n",
       "<style scoped>\n",
       "    .dataframe tbody tr th:only-of-type {\n",
       "        vertical-align: middle;\n",
       "    }\n",
       "\n",
       "    .dataframe tbody tr th {\n",
       "        vertical-align: top;\n",
       "    }\n",
       "\n",
       "    .dataframe thead th {\n",
       "        text-align: right;\n",
       "    }\n",
       "</style>\n",
       "<table border=\"1\" class=\"dataframe\">\n",
       "  <thead>\n",
       "    <tr style=\"text-align: right;\">\n",
       "      <th></th>\n",
       "      <th>NAME</th>\n",
       "      <th>VET_GROUP_LABEL</th>\n",
       "      <th>EMP</th>\n",
       "      <th>PAYANN</th>\n",
       "      <th>revenue_per_employee</th>\n",
       "    </tr>\n",
       "  </thead>\n",
       "  <tbody>\n",
       "    <tr>\n",
       "      <th>1</th>\n",
       "      <td>Alabama</td>\n",
       "      <td>Nonveteran</td>\n",
       "      <td>3724.114650</td>\n",
       "      <td>146823.624204</td>\n",
       "      <td>39.425109</td>\n",
       "    </tr>\n",
       "    <tr>\n",
       "      <th>3</th>\n",
       "      <td>Alabama</td>\n",
       "      <td>Veteran</td>\n",
       "      <td>164.941176</td>\n",
       "      <td>2976.607843</td>\n",
       "      <td>18.046481</td>\n",
       "    </tr>\n",
       "    <tr>\n",
       "      <th>5</th>\n",
       "      <td>Alaska</td>\n",
       "      <td>Nonveteran</td>\n",
       "      <td>371.790541</td>\n",
       "      <td>24625.364865</td>\n",
       "      <td>66.234512</td>\n",
       "    </tr>\n",
       "  </tbody>\n",
       "</table>\n",
       "</div>"
      ],
      "text/plain": [
       "      NAME VET_GROUP_LABEL          EMP         PAYANN  revenue_per_employee\n",
       "1  Alabama      Nonveteran  3724.114650  146823.624204             39.425109\n",
       "3  Alabama         Veteran   164.941176    2976.607843             18.046481\n",
       "5   Alaska      Nonveteran   371.790541   24625.364865             66.234512"
      ]
     },
     "execution_count": 431,
     "metadata": {},
     "output_type": "execute_result"
    }
   ],
   "source": [
    "plotdata1 = plotdata.loc[plotdata['VET_GROUP_LABEL'].isin(['Veteran','Nonveteran'])]\n",
    "plotdata1.head(3)"
   ]
  },
  {
   "cell_type": "code",
   "execution_count": 728,
   "metadata": {},
   "outputs": [
    {
     "data": {
      "text/html": [
       "<div>\n",
       "<style scoped>\n",
       "    .dataframe tbody tr th:only-of-type {\n",
       "        vertical-align: middle;\n",
       "    }\n",
       "\n",
       "    .dataframe tbody tr th {\n",
       "        vertical-align: top;\n",
       "    }\n",
       "\n",
       "    .dataframe thead th {\n",
       "        text-align: right;\n",
       "    }\n",
       "</style>\n",
       "<table border=\"1\" class=\"dataframe\">\n",
       "  <thead>\n",
       "    <tr style=\"text-align: right;\">\n",
       "      <th></th>\n",
       "      <th>NAME</th>\n",
       "      <th>VET_GROUP_LABEL</th>\n",
       "      <th>EMP</th>\n",
       "      <th>PAYANN</th>\n",
       "      <th>revenue_per_employee</th>\n",
       "    </tr>\n",
       "  </thead>\n",
       "  <tbody>\n",
       "    <tr>\n",
       "      <th>35</th>\n",
       "      <td>District of Columbia</td>\n",
       "      <td>Veteran</td>\n",
       "      <td>49.270270</td>\n",
       "      <td>5452.810811</td>\n",
       "      <td>110.671421</td>\n",
       "    </tr>\n",
       "    <tr>\n",
       "      <th>47</th>\n",
       "      <td>Hawaii</td>\n",
       "      <td>Veteran</td>\n",
       "      <td>27.740741</td>\n",
       "      <td>2227.777778</td>\n",
       "      <td>80.307076</td>\n",
       "    </tr>\n",
       "    <tr>\n",
       "      <th>203</th>\n",
       "      <td>Wyoming</td>\n",
       "      <td>Veteran</td>\n",
       "      <td>24.411765</td>\n",
       "      <td>1741.117647</td>\n",
       "      <td>71.322892</td>\n",
       "    </tr>\n",
       "    <tr>\n",
       "      <th>33</th>\n",
       "      <td>District of Columbia</td>\n",
       "      <td>Nonveteran</td>\n",
       "      <td>626.899160</td>\n",
       "      <td>44123.117647</td>\n",
       "      <td>70.383118</td>\n",
       "    </tr>\n",
       "    <tr>\n",
       "      <th>187</th>\n",
       "      <td>Virginia</td>\n",
       "      <td>Veteran</td>\n",
       "      <td>1484.800000</td>\n",
       "      <td>101804.246154</td>\n",
       "      <td>68.564282</td>\n",
       "    </tr>\n",
       "    <tr>\n",
       "      <th>83</th>\n",
       "      <td>Maryland</td>\n",
       "      <td>Veteran</td>\n",
       "      <td>965.254902</td>\n",
       "      <td>64752.882353</td>\n",
       "      <td>67.083713</td>\n",
       "    </tr>\n",
       "    <tr>\n",
       "      <th>5</th>\n",
       "      <td>Alaska</td>\n",
       "      <td>Nonveteran</td>\n",
       "      <td>371.790541</td>\n",
       "      <td>24625.364865</td>\n",
       "      <td>66.234512</td>\n",
       "    </tr>\n",
       "    <tr>\n",
       "      <th>7</th>\n",
       "      <td>Alaska</td>\n",
       "      <td>Veteran</td>\n",
       "      <td>22.263158</td>\n",
       "      <td>1472.842105</td>\n",
       "      <td>66.156028</td>\n",
       "    </tr>\n",
       "    <tr>\n",
       "      <th>27</th>\n",
       "      <td>Connecticut</td>\n",
       "      <td>Veteran</td>\n",
       "      <td>406.388889</td>\n",
       "      <td>25877.305556</td>\n",
       "      <td>63.676213</td>\n",
       "    </tr>\n",
       "    <tr>\n",
       "      <th>159</th>\n",
       "      <td>Rhode Island</td>\n",
       "      <td>Veteran</td>\n",
       "      <td>124.714286</td>\n",
       "      <td>7799.107143</td>\n",
       "      <td>62.535796</td>\n",
       "    </tr>\n",
       "  </tbody>\n",
       "</table>\n",
       "</div>"
      ],
      "text/plain": [
       "                     NAME VET_GROUP_LABEL          EMP         PAYANN  \\\n",
       "35   District of Columbia         Veteran    49.270270    5452.810811   \n",
       "47                 Hawaii         Veteran    27.740741    2227.777778   \n",
       "203               Wyoming         Veteran    24.411765    1741.117647   \n",
       "33   District of Columbia      Nonveteran   626.899160   44123.117647   \n",
       "187              Virginia         Veteran  1484.800000  101804.246154   \n",
       "83               Maryland         Veteran   965.254902   64752.882353   \n",
       "5                  Alaska      Nonveteran   371.790541   24625.364865   \n",
       "7                  Alaska         Veteran    22.263158    1472.842105   \n",
       "27            Connecticut         Veteran   406.388889   25877.305556   \n",
       "159          Rhode Island         Veteran   124.714286    7799.107143   \n",
       "\n",
       "     revenue_per_employee  \n",
       "35             110.671421  \n",
       "47              80.307076  \n",
       "203             71.322892  \n",
       "33              70.383118  \n",
       "187             68.564282  \n",
       "83              67.083713  \n",
       "5               66.234512  \n",
       "7               66.156028  \n",
       "27              63.676213  \n",
       "159             62.535796  "
      ]
     },
     "metadata": {},
     "output_type": "display_data"
    },
    {
     "data": {
      "image/png": "[encoded data removed]",
      "text/plain": [
       "<Figure size 1080x720 with 1 Axes>"
      ]
     },
     "metadata": {},
     "output_type": "display_data"
    }
   ],
   "source": [
    "sns.set_style(\"whitegrid\")\n",
    "sns.set_palette(\"colorblind\")\n",
    "\n",
    "fig, ax = plt.subplots(figsize=(15, 10))\n",
    "\n",
    "sns.barplot(x=\"NAME\", y=\"revenue_per_employee\", hue=\"VET_GROUP_LABEL\", palette={\"Nonveteran\": \"grey\", \"Veteran\": \"royalblue\"}, data=plotdata1, ax=ax)\n",
    "ax.set_xlabel(\"State\")\n",
    "ax.set_ylabel(\"Revenue per Employee ($1000s)\")\n",
    "ax.set_title(\"Revenue per Employee by State and Veteran Status\")\n",
    "\n",
    "plt.xticks(rotation=85)\n",
    "average = plotdata.revenue_per_employee.mean()\n",
    "plt.axhline(y=average, color='red', linestyle='--')\n",
    "plt.text(28, average + 11, f'Mean of means: {average:.2f}', ha='center', color='red')\n",
    "\n",
    "textstr = \"This graph shows that veterans outearn non-veterans in California, Connecticut, D.C., Hawaii, Illinois, Maryland, Oklahoma, South Dakota, Virginia, West Virginia, Wisconsin, and Wyoming.\"\n",
    "props = dict(boxstyle='round', facecolor='wheat', alpha=0.5)\n",
    "text = ax.text(0.5, 1.12, textstr, transform=ax.transAxes, fontsize=14,\n",
    "        verticalalignment='top', horizontalalignment='center', bbox=props, wrap=True)\n",
    "\n",
    "display(plotdata1.head(10))\n",
    "# sort the data by the Veteran revenue per employee column\n",
    "plotdata1 = plotdata1.sort_values(by='revenue_per_employee', ascending=False)\n",
    "\n",
    "max_value = (plotdata1['revenue_per_employee'].max())\n",
    "\n",
    "# loop through the bars and set the color and font weight of the highest value bars\n",
    "for i, bar in enumerate(ax.containers):\n",
    "    for rect in bar:\n",
    "        if plotdata1.iloc[i]['revenue_per_employee']==max_value:\n",
    "                height = rect.get_height()\n",
    "                ax.annotate(f'{height:.0f}', xy=(rect.get_x() + rect.get_width() / 2, height),\n",
    "                    xytext=(0, 3),  textcoords='offset points', ha='center', va='bottom')\n",
    "\n",
    "# set the x-axis label and title\n",
    "plt.xlabel('State')\n",
    "plt.title('Revenue per employee by state and veteran status')\n",
    "fig.savefig('jh3.png');"
   ]
  },
  {
   "attachments": {},
   "cell_type": "markdown",
   "metadata": {},
   "source": [
    "The results show a marked disparity in revenue per employee by veteran or non veteran status in D.C. and less so in the next several ranked states. It makes sense after this investigation why the nation's capitol may be separated out from it's state, since this would skew the state level data likely for this and for many other factors studied by the Census Bureau."
   ]
  },
  {
   "attachments": {},
   "cell_type": "markdown",
   "metadata": {},
   "source": [
    "I also wanted to look at which states had the highest percentage of veterans.  I pared down the existing data frame and reset the index to bring the indexing to the same level of hierarchy (row 0)."
   ]
  },
  {
   "cell_type": "code",
   "execution_count": 526,
   "metadata": {},
   "outputs": [
    {
     "data": {
      "text/html": [
       "<div>\n",
       "<style scoped>\n",
       "    .dataframe tbody tr th:only-of-type {\n",
       "        vertical-align: middle;\n",
       "    }\n",
       "\n",
       "    .dataframe tbody tr th {\n",
       "        vertical-align: top;\n",
       "    }\n",
       "\n",
       "    .dataframe thead th {\n",
       "        text-align: right;\n",
       "    }\n",
       "</style>\n",
       "<table border=\"1\" class=\"dataframe\">\n",
       "  <thead>\n",
       "    <tr style=\"text-align: right;\">\n",
       "      <th></th>\n",
       "      <th>NAME</th>\n",
       "      <th>VET_GROUP_LABEL</th>\n",
       "      <th>EMP</th>\n",
       "    </tr>\n",
       "  </thead>\n",
       "  <tbody>\n",
       "    <tr>\n",
       "      <th>0</th>\n",
       "      <td>Alabama</td>\n",
       "      <td>Equally veteran/nonveteran</td>\n",
       "      <td>21.516129</td>\n",
       "    </tr>\n",
       "    <tr>\n",
       "      <th>1</th>\n",
       "      <td>Alabama</td>\n",
       "      <td>Nonveteran</td>\n",
       "      <td>3724.114650</td>\n",
       "    </tr>\n",
       "    <tr>\n",
       "      <th>2</th>\n",
       "      <td>Alabama</td>\n",
       "      <td>Total</td>\n",
       "      <td>4279.823899</td>\n",
       "    </tr>\n",
       "    <tr>\n",
       "      <th>3</th>\n",
       "      <td>Alabama</td>\n",
       "      <td>Veteran</td>\n",
       "      <td>164.941176</td>\n",
       "    </tr>\n",
       "    <tr>\n",
       "      <th>4</th>\n",
       "      <td>Alaska</td>\n",
       "      <td>Equally veteran/nonveteran</td>\n",
       "      <td>0.000000</td>\n",
       "    </tr>\n",
       "    <tr>\n",
       "      <th>5</th>\n",
       "      <td>Alaska</td>\n",
       "      <td>Nonveteran</td>\n",
       "      <td>371.790541</td>\n",
       "    </tr>\n",
       "  </tbody>\n",
       "</table>\n",
       "</div>"
      ],
      "text/plain": [
       "      NAME             VET_GROUP_LABEL          EMP\n",
       "0  Alabama  Equally veteran/nonveteran    21.516129\n",
       "1  Alabama                  Nonveteran  3724.114650\n",
       "2  Alabama                       Total  4279.823899\n",
       "3  Alabama                     Veteran   164.941176\n",
       "4   Alaska  Equally veteran/nonveteran     0.000000\n",
       "5   Alaska                  Nonveteran   371.790541"
      ]
     },
     "execution_count": 526,
     "metadata": {},
     "output_type": "execute_result"
    }
   ],
   "source": [
    "vetsbystate = vetpaybystate[['EMP']].reset_index()\n",
    "vetsbystate.head(6)"
   ]
  },
  {
   "attachments": {},
   "cell_type": "markdown",
   "metadata": {},
   "source": [
    "I collected the number of employees in total for a state and the veterans, then created a new column for Percent Veteran to indicate the states overall proportion of veterans in their workforce."
   ]
  },
  {
   "cell_type": "code",
   "execution_count": 719,
   "metadata": {},
   "outputs": [
    {
     "data": {
      "text/html": [
       "<div>\n",
       "<style scoped>\n",
       "    .dataframe tbody tr th:only-of-type {\n",
       "        vertical-align: middle;\n",
       "    }\n",
       "\n",
       "    .dataframe tbody tr th {\n",
       "        vertical-align: top;\n",
       "    }\n",
       "\n",
       "    .dataframe thead th {\n",
       "        text-align: right;\n",
       "    }\n",
       "</style>\n",
       "<table border=\"1\" class=\"dataframe\">\n",
       "  <thead>\n",
       "    <tr style=\"text-align: right;\">\n",
       "      <th></th>\n",
       "      <th>NAME</th>\n",
       "      <th>VET_GROUP_LABEL</th>\n",
       "      <th>EMP</th>\n",
       "      <th>percent_veteran</th>\n",
       "    </tr>\n",
       "  </thead>\n",
       "  <tbody>\n",
       "    <tr>\n",
       "      <th>2</th>\n",
       "      <td>Alabama</td>\n",
       "      <td>Total</td>\n",
       "      <td>4279.823899</td>\n",
       "      <td>3.85</td>\n",
       "    </tr>\n",
       "    <tr>\n",
       "      <th>6</th>\n",
       "      <td>Alaska</td>\n",
       "      <td>Total</td>\n",
       "      <td>392.105960</td>\n",
       "      <td>5.68</td>\n",
       "    </tr>\n",
       "    <tr>\n",
       "      <th>10</th>\n",
       "      <td>Arizona</td>\n",
       "      <td>Total</td>\n",
       "      <td>6315.155556</td>\n",
       "      <td>9.28</td>\n",
       "    </tr>\n",
       "    <tr>\n",
       "      <th>14</th>\n",
       "      <td>Arkansas</td>\n",
       "      <td>Total</td>\n",
       "      <td>2181.468531</td>\n",
       "      <td>11.48</td>\n",
       "    </tr>\n",
       "    <tr>\n",
       "      <th>18</th>\n",
       "      <td>California</td>\n",
       "      <td>Total</td>\n",
       "      <td>30944.568376</td>\n",
       "      <td>10.86</td>\n",
       "    </tr>\n",
       "    <tr>\n",
       "      <th>22</th>\n",
       "      <td>Colorado</td>\n",
       "      <td>Total</td>\n",
       "      <td>5464.789189</td>\n",
       "      <td>14.36</td>\n",
       "    </tr>\n",
       "    <tr>\n",
       "      <th>26</th>\n",
       "      <td>Connecticut</td>\n",
       "      <td>Total</td>\n",
       "      <td>3742.730769</td>\n",
       "      <td>10.86</td>\n",
       "    </tr>\n",
       "  </tbody>\n",
       "</table>\n",
       "</div>"
      ],
      "text/plain": [
       "           NAME VET_GROUP_LABEL           EMP  percent_veteran\n",
       "2       Alabama           Total   4279.823899             3.85\n",
       "6        Alaska           Total    392.105960             5.68\n",
       "10      Arizona           Total   6315.155556             9.28\n",
       "14     Arkansas           Total   2181.468531            11.48\n",
       "18   California           Total  30944.568376            10.86\n",
       "22     Colorado           Total   5464.789189            14.36\n",
       "26  Connecticut           Total   3742.730769            10.86"
      ]
     },
     "execution_count": 719,
     "metadata": {},
     "output_type": "execute_result"
    }
   ],
   "source": [
    "total_emp = vetsbystate.loc[vetsbystate['VET_GROUP_LABEL'] == 'Total'].groupby('NAME')['EMP'].sum()\n",
    "vet_emp = vetsbystate.loc[vetsbystate['VET_GROUP_LABEL'] == 'Veteran'].groupby('NAME')['EMP'].sum()\n",
    "\n",
    "percent_vet = (vet_emp / total_emp) * 100\n",
    "vetsbystate['percent_veteran'] = percent_vet.reindex(vetsbystate['NAME']).values.round(2)\n",
    "vetsbystate = vetsbystate.loc[vetsbystate['VET_GROUP_LABEL']=='Total',:]\n",
    "vetsbystate.head(7)"
   ]
  },
  {
   "attachments": {},
   "cell_type": "markdown",
   "metadata": {},
   "source": [
    "I then used the plotly express module to create a treemap, where the size of the squares indicates the state's workforce, and the color grading indicates the percent veterans of those employees"
   ]
  },
  {
   "cell_type": "code",
   "execution_count": 727,
   "metadata": {},
   "outputs": [
    {
     "data": {
      "application/vnd.plotly.v1+json": {
       "config": {
        "plotlyServerURL": "https://plot.ly"
       },
       "data": [
        {
         "branchvalues": "total",
         "customdata": [
          [
           3.85
          ],
          [
           5.68
          ],
          [
           9.28
          ],
          [
           11.48
          ],
          [
           10.86
          ],
          [
           14.36
          ],
          [
           10.86
          ],
          [
           38.39
          ],
          [
           6.95
          ],
          [
           12.18
          ],
          [
           15.399999999999999
          ],
          [
           2.89
          ],
          [
           7.04
          ],
          [
           7.61
          ],
          [
           8.71
          ],
          [
           4.04
          ],
          [
           3.52
          ],
          [
           6.69
          ],
          [
           13.32
          ],
          [
           7.98
          ],
          [
           17.42
          ],
          [
           11.72
          ],
          [
           7.08
          ],
          [
           5.18
          ],
          [
           23.29
          ],
          [
           8.28
          ],
          [
           6.56
          ],
          [
           7.7
          ],
          [
           14.61
          ],
          [
           0
          ],
          [
           6.6899999999999995
          ],
          [
           9.03
          ],
          [
           7.74
          ],
          [
           15
          ],
          [
           2.64
          ],
          [
           10.93
          ],
          [
           10
          ],
          [
           6.79
          ],
          [
           14.63
          ],
          [
           13.85
          ],
          [
           7.03
          ],
          [
           7.54
          ],
          [
           19.49
          ],
          [
           12.589999999999998
          ],
          [
           13.71
          ],
          [
           13.75
          ],
          [
           20.06
          ],
          [
           2.16
          ],
          [
           9.71
          ],
          [
           10.66
          ],
          [
           7.449999999999999
          ]
         ],
         "domain": {
          "x": [
           0,
           1
          ],
          "y": [
           0,
           1
          ]
         },
         "hovertemplate": "labels=%{label}<br>EMP=%{value}<br>parent=%{parent}<br>id=%{id}<br>percent_veteran=%{color}<extra></extra>",
         "ids": [
          "Alabama",
          "Alaska",
          "Arizona",
          "Arkansas",
          "California",
          "Colorado",
          "Connecticut",
          "Delaware",
          "District of Columbia",
          "Florida",
          "Georgia",
          "Hawaii",
          "Idaho",
          "Illinois",
          "Indiana",
          "Iowa",
          "Kansas",
          "Kentucky",
          "Louisiana",
          "Maine",
          "Maryland",
          "Massachusetts",
          "Michigan",
          "Minnesota",
          "Mississippi",
          "Missouri",
          "Montana",
          "Nebraska",
          "Nevada",
          "New Hampshire",
          "New Jersey",
          "New Mexico",
          "New York",
          "North Carolina",
          "North Dakota",
          "Ohio",
          "Oklahoma",
          "Oregon",
          "Pennsylvania",
          "Rhode Island",
          "South Carolina",
          "South Dakota",
          "Tennessee",
          "Texas",
          "Utah",
          "Vermont",
          "Virginia",
          "Washington",
          "West Virginia",
          "Wisconsin",
          "Wyoming"
         ],
         "labels": [
          "Alabama",
          "Alaska",
          "Arizona",
          "Arkansas",
          "California",
          "Colorado",
          "Connecticut",
          "Delaware",
          "District of Columbia",
          "Florida",
          "Georgia",
          "Hawaii",
          "Idaho",
          "Illinois",
          "Indiana",
          "Iowa",
          "Kansas",
          "Kentucky",
          "Louisiana",
          "Maine",
          "Maryland",
          "Massachusetts",
          "Michigan",
          "Minnesota",
          "Mississippi",
          "Missouri",
          "Montana",
          "Nebraska",
          "Nevada",
          "New Hampshire",
          "New Jersey",
          "New Mexico",
          "New York",
          "North Carolina",
          "North Dakota",
          "Ohio",
          "Oklahoma",
          "Oregon",
          "Pennsylvania",
          "Rhode Island",
          "South Carolina",
          "South Dakota",
          "Tennessee",
          "Texas",
          "Utah",
          "Vermont",
          "Virginia",
          "Washington",
          "West Virginia",
          "Wisconsin",
          "Wyoming"
         ],
         "marker": {
          "coloraxis": "coloraxis",
          "colors": [
           3.85,
           5.68,
           9.28,
           11.48,
           10.86,
           14.36,
           10.86,
           38.39,
           6.95,
           12.18,
           15.399999999999999,
           2.89,
           7.04,
           7.61,
           8.71,
           4.04,
           3.52,
           6.69,
           13.32,
           7.98,
           17.42,
           11.72,
           7.08,
           5.18,
           23.29,
           8.28,
           6.56,
           7.7,
           14.61,
           0,
           6.6899999999999995,
           9.03,
           7.74,
           15,
           2.64,
           10.93,
           10,
           6.79,
           14.63,
           13.85,
           7.03,
           7.54,
           19.49,
           12.589999999999998,
           13.71,
           13.75,
           20.06,
           2.16,
           9.71,
           10.66,
           7.449999999999999
          ]
         },
         "name": "",
         "parents": [
          "",
          "",
          "",
          "",
          "",
          "",
          "",
          "",
          "",
          "",
          "",
          "",
          "",
          "",
          "",
          "",
          "",
          "",
          "",
          "",
          "",
          "",
          "",
          "",
          "",
          "",
          "",
          "",
          "",
          "",
          "",
          "",
          "",
          "",
          "",
          "",
          "",
          "",
          "",
          "",
          "",
          "",
          "",
          "",
          "",
          "",
          "",
          "",
          "",
          "",
          ""
         ],
         "type": "treemap",
         "values": [
          4279.823899371069,
          392.10596026490066,
          6315.155555555555,
          2181.4685314685316,
          30944.568376068375,
          5464.7891891891895,
          3742.730769230769,
          617.3453237410072,
          709.432,
          18091.270142180096,
          8935.678756476684,
          960.3157894736842,
          1748.3941605839416,
          12522.47027027027,
          7233.175757575757,
          3650.9609375,
          2973.3706293706296,
          3891.8513513513512,
          4163.687861271676,
          1643.4245283018868,
          5541.670454545455,
          7984.8109756097565,
          8848.906593406593,
          6196.198795180723,
          2697.5810810810813,
          6453.675,
          1083.896,
          3225.8968253968255,
          2818.7398843930637,
          1803.5862068965516,
          10109.78494623656,
          1366.7394366197184,
          19503.00505050505,
          8387.52380952381,
          578.1810344827586,
          11449.49090909091,
          3221.329341317365,
          4362.641618497109,
          12750.829545454546,
          900.5573770491803,
          4588.345454545454,
          898.5357142857143,
          5311.269938650306,
          23189.96261682243,
          3490.2345679012346,
          659.3846153846154,
          7400.375,
          6111.914893617021,
          1613.877192982456,
          7217.6322580645165,
          327.82142857142856
         ]
        }
       ],
       "layout": {
        "coloraxis": {
         "colorbar": {
          "title": {
           "text": "percent_veteran"
          }
         },
         "colorscale": [
          [
           0,
           "rgb(103,0,31)"
          ],
          [
           0.1,
           "rgb(178,24,43)"
          ],
          [
           0.2,
           "rgb(214,96,77)"
          ],
          [
           0.3,
           "rgb(244,165,130)"
          ],
          [
           0.4,
           "rgb(253,219,199)"
          ],
          [
           0.5,
           "rgb(247,247,247)"
          ],
          [
           0.6,
           "rgb(209,229,240)"
          ],
          [
           0.7,
           "rgb(146,197,222)"
          ],
          [
           0.8,
           "rgb(67,147,195)"
          ],
          [
           0.9,
           "rgb(33,102,172)"
          ],
          [
           1,
           "rgb(5,48,97)"
          ]
         ]
        },
        "font": {
         "size": 14
        },
        "legend": {
         "tracegroupgap": 0
        },
        "margin": {
         "t": 60
        },
        "template": {
         "data": {
          "bar": [
           {
            "error_x": {
             "color": "#2a3f5f"
            },
            "error_y": {
             "color": "#2a3f5f"
            },
            "marker": {
             "line": {
              "color": "#E5ECF6",
              "width": 0.5
             },
             "pattern": {
              "fillmode": "overlay",
              "size": 10,
              "solidity": 0.2
             }
            },
            "type": "bar"
           }
          ],
          "barpolar": [
           {
            "marker": {
             "line": {
              "color": "#E5ECF6",
              "width": 0.5
             },
             "pattern": {
              "fillmode": "overlay",
              "size": 10,
              "solidity": 0.2
             }
            },
            "type": "barpolar"
           }
          ],
          "carpet": [
           {
            "aaxis": {
             "endlinecolor": "#2a3f5f",
             "gridcolor": "white",
             "linecolor": "white",
             "minorgridcolor": "white",
             "startlinecolor": "#2a3f5f"
            },
            "baxis": {
             "endlinecolor": "#2a3f5f",
             "gridcolor": "white",
             "linecolor": "white",
             "minorgridcolor": "white",
             "startlinecolor": "#2a3f5f"
            },
            "type": "carpet"
           }
          ],
          "choropleth": [
           {
            "colorbar": {
             "outlinewidth": 0,
             "ticks": ""
            },
            "type": "choropleth"
           }
          ],
          "contour": [
           {
            "colorbar": {
             "outlinewidth": 0,
             "ticks": ""
            },
            "colorscale": [
             [
              0,
              "#0d0887"
             ],
             [
              0.1111111111111111,
              "#46039f"
             ],
             [
              0.2222222222222222,
              "#7201a8"
             ],
             [
              0.3333333333333333,
              "#9c179e"
             ],
             [
              0.4444444444444444,
              "#bd3786"
             ],
             [
              0.5555555555555556,
              "#d8576b"
             ],
             [
              0.6666666666666666,
              "#ed7953"
             ],
             [
              0.7777777777777778,
              "#fb9f3a"
             ],
             [
              0.8888888888888888,
              "#fdca26"
             ],
             [
              1,
              "#f0f921"
             ]
            ],
            "type": "contour"
           }
          ],
          "contourcarpet": [
           {
            "colorbar": {
             "outlinewidth": 0,
             "ticks": ""
            },
            "type": "contourcarpet"
           }
          ],
          "heatmap": [
           {
            "colorbar": {
             "outlinewidth": 0,
             "ticks": ""
            },
            "colorscale": [
             [
              0,
              "#0d0887"
             ],
             [
              0.1111111111111111,
              "#46039f"
             ],
             [
              0.2222222222222222,
              "#7201a8"
             ],
             [
              0.3333333333333333,
              "#9c179e"
             ],
             [
              0.4444444444444444,
              "#bd3786"
             ],
             [
              0.5555555555555556,
              "#d8576b"
             ],
             [
              0.6666666666666666,
              "#ed7953"
             ],
             [
              0.7777777777777778,
              "#fb9f3a"
             ],
             [
              0.8888888888888888,
              "#fdca26"
             ],
             [
              1,
              "#f0f921"
             ]
            ],
            "type": "heatmap"
           }
          ],
          "heatmapgl": [
           {
            "colorbar": {
             "outlinewidth": 0,
             "ticks": ""
            },
            "colorscale": [
             [
              0,
              "#0d0887"
             ],
             [
              0.1111111111111111,
              "#46039f"
             ],
             [
              0.2222222222222222,
              "#7201a8"
             ],
             [
              0.3333333333333333,
              "#9c179e"
             ],
             [
              0.4444444444444444,
              "#bd3786"
             ],
             [
              0.5555555555555556,
              "#d8576b"
             ],
             [
              0.6666666666666666,
              "#ed7953"
             ],
             [
              0.7777777777777778,
              "#fb9f3a"
             ],
             [
              0.8888888888888888,
              "#fdca26"
             ],
             [
              1,
              "#f0f921"
             ]
            ],
            "type": "heatmapgl"
           }
          ],
          "histogram": [
           {
            "marker": {
             "pattern": {
              "fillmode": "overlay",
              "size": 10,
              "solidity": 0.2
             }
            },
            "type": "histogram"
           }
          ],
          "histogram2d": [
           {
            "colorbar": {
             "outlinewidth": 0,
             "ticks": ""
            },
            "colorscale": [
             [
              0,
              "#0d0887"
             ],
             [
              0.1111111111111111,
              "#46039f"
             ],
             [
              0.2222222222222222,
              "#7201a8"
             ],
             [
              0.3333333333333333,
              "#9c179e"
             ],
             [
              0.4444444444444444,
              "#bd3786"
             ],
             [
              0.5555555555555556,
              "#d8576b"
             ],
             [
              0.6666666666666666,
              "#ed7953"
             ],
             [
              0.7777777777777778,
              "#fb9f3a"
             ],
             [
              0.8888888888888888,
              "#fdca26"
             ],
             [
              1,
              "#f0f921"
             ]
            ],
            "type": "histogram2d"
           }
          ],
          "histogram2dcontour": [
           {
            "colorbar": {
             "outlinewidth": 0,
             "ticks": ""
            },
            "colorscale": [
             [
              0,
              "#0d0887"
             ],
             [
              0.1111111111111111,
              "#46039f"
             ],
             [
              0.2222222222222222,
              "#7201a8"
             ],
             [
              0.3333333333333333,
              "#9c179e"
             ],
             [
              0.4444444444444444,
              "#bd3786"
             ],
             [
              0.5555555555555556,
              "#d8576b"
             ],
             [
              0.6666666666666666,
              "#ed7953"
             ],
             [
              0.7777777777777778,
              "#fb9f3a"
             ],
             [
              0.8888888888888888,
              "#fdca26"
             ],
             [
              1,
              "#f0f921"
             ]
            ],
            "type": "histogram2dcontour"
           }
          ],
          "mesh3d": [
           {
            "colorbar": {
             "outlinewidth": 0,
             "ticks": ""
            },
            "type": "mesh3d"
           }
          ],
          "parcoords": [
           {
            "line": {
             "colorbar": {
              "outlinewidth": 0,
              "ticks": ""
             }
            },
            "type": "parcoords"
           }
          ],
          "pie": [
           {
            "automargin": true,
            "type": "pie"
           }
          ],
          "scatter": [
           {
            "fillpattern": {
             "fillmode": "overlay",
             "size": 10,
             "solidity": 0.2
            },
            "type": "scatter"
           }
          ],
          "scatter3d": [
           {
            "line": {
             "colorbar": {
              "outlinewidth": 0,
              "ticks": ""
             }
            },
            "marker": {
             "colorbar": {
              "outlinewidth": 0,
              "ticks": ""
             }
            },
            "type": "scatter3d"
           }
          ],
          "scattercarpet": [
           {
            "marker": {
             "colorbar": {
              "outlinewidth": 0,
              "ticks": ""
             }
            },
            "type": "scattercarpet"
           }
          ],
          "scattergeo": [
           {
            "marker": {
             "colorbar": {
              "outlinewidth": 0,
              "ticks": ""
             }
            },
            "type": "scattergeo"
           }
          ],
          "scattergl": [
           {
            "marker": {
             "colorbar": {
              "outlinewidth": 0,
              "ticks": ""
             }
            },
            "type": "scattergl"
           }
          ],
          "scattermapbox": [
           {
            "marker": {
             "colorbar": {
              "outlinewidth": 0,
              "ticks": ""
             }
            },
            "type": "scattermapbox"
           }
          ],
          "scatterpolar": [
           {
            "marker": {
             "colorbar": {
              "outlinewidth": 0,
              "ticks": ""
             }
            },
            "type": "scatterpolar"
           }
          ],
          "scatterpolargl": [
           {
            "marker": {
             "colorbar": {
              "outlinewidth": 0,
              "ticks": ""
             }
            },
            "type": "scatterpolargl"
           }
          ],
          "scatterternary": [
           {
            "marker": {
             "colorbar": {
              "outlinewidth": 0,
              "ticks": ""
             }
            },
            "type": "scatterternary"
           }
          ],
          "surface": [
           {
            "colorbar": {
             "outlinewidth": 0,
             "ticks": ""
            },
            "colorscale": [
             [
              0,
              "#0d0887"
             ],
             [
              0.1111111111111111,
              "#46039f"
             ],
             [
              0.2222222222222222,
              "#7201a8"
             ],
             [
              0.3333333333333333,
              "#9c179e"
             ],
             [
              0.4444444444444444,
              "#bd3786"
             ],
             [
              0.5555555555555556,
              "#d8576b"
             ],
             [
              0.6666666666666666,
              "#ed7953"
             ],
             [
              0.7777777777777778,
              "#fb9f3a"
             ],
             [
              0.8888888888888888,
              "#fdca26"
             ],
             [
              1,
              "#f0f921"
             ]
            ],
            "type": "surface"
           }
          ],
          "table": [
           {
            "cells": {
             "fill": {
              "color": "#EBF0F8"
             },
             "line": {
              "color": "white"
             }
            },
            "header": {
             "fill": {
              "color": "#C8D4E3"
             },
             "line": {
              "color": "white"
             }
            },
            "type": "table"
           }
          ]
         },
         "layout": {
          "annotationdefaults": {
           "arrowcolor": "#2a3f5f",
           "arrowhead": 0,
           "arrowwidth": 1
          },
          "autotypenumbers": "strict",
          "coloraxis": {
           "colorbar": {
            "outlinewidth": 0,
            "ticks": ""
           }
          },
          "colorscale": {
           "diverging": [
            [
             0,
             "#8e0152"
            ],
            [
             0.1,
             "#c51b7d"
            ],
            [
             0.2,
             "#de77ae"
            ],
            [
             0.3,
             "#f1b6da"
            ],
            [
             0.4,
             "#fde0ef"
            ],
            [
             0.5,
             "#f7f7f7"
            ],
            [
             0.6,
             "#e6f5d0"
            ],
            [
             0.7,
             "#b8e186"
            ],
            [
             0.8,
             "#7fbc41"
            ],
            [
             0.9,
             "#4d9221"
            ],
            [
             1,
             "#276419"
            ]
           ],
           "sequential": [
            [
             0,
             "#0d0887"
            ],
            [
             0.1111111111111111,
             "#46039f"
            ],
            [
             0.2222222222222222,
             "#7201a8"
            ],
            [
             0.3333333333333333,
             "#9c179e"
            ],
            [
             0.4444444444444444,
             "#bd3786"
            ],
            [
             0.5555555555555556,
             "#d8576b"
            ],
            [
             0.6666666666666666,
             "#ed7953"
            ],
            [
             0.7777777777777778,
             "#fb9f3a"
            ],
            [
             0.8888888888888888,
             "#fdca26"
            ],
            [
             1,
             "#f0f921"
            ]
           ],
           "sequentialminus": [
            [
             0,
             "#0d0887"
            ],
            [
             0.1111111111111111,
             "#46039f"
            ],
            [
             0.2222222222222222,
             "#7201a8"
            ],
            [
             0.3333333333333333,
             "#9c179e"
            ],
            [
             0.4444444444444444,
             "#bd3786"
            ],
            [
             0.5555555555555556,
             "#d8576b"
            ],
            [
             0.6666666666666666,
             "#ed7953"
            ],
            [
             0.7777777777777778,
             "#fb9f3a"
            ],
            [
             0.8888888888888888,
             "#fdca26"
            ],
            [
             1,
             "#f0f921"
            ]
           ]
          },
          "colorway": [
           "#636efa",
           "#EF553B",
           "#00cc96",
           "#ab63fa",
           "#FFA15A",
           "#19d3f3",
           "#FF6692",
           "#B6E880",
           "#FF97FF",
           "#FECB52"
          ],
          "font": {
           "color": "#2a3f5f"
          },
          "geo": {
           "bgcolor": "white",
           "lakecolor": "white",
           "landcolor": "#E5ECF6",
           "showlakes": true,
           "showland": true,
           "subunitcolor": "white"
          },
          "hoverlabel": {
           "align": "left"
          },
          "hovermode": "closest",
          "mapbox": {
           "style": "light"
          },
          "paper_bgcolor": "white",
          "plot_bgcolor": "#E5ECF6",
          "polar": {
           "angularaxis": {
            "gridcolor": "white",
            "linecolor": "white",
            "ticks": ""
           },
           "bgcolor": "#E5ECF6",
           "radialaxis": {
            "gridcolor": "white",
            "linecolor": "white",
            "ticks": ""
           }
          },
          "scene": {
           "xaxis": {
            "backgroundcolor": "#E5ECF6",
            "gridcolor": "white",
            "gridwidth": 2,
            "linecolor": "white",
            "showbackground": true,
            "ticks": "",
            "zerolinecolor": "white"
           },
           "yaxis": {
            "backgroundcolor": "#E5ECF6",
            "gridcolor": "white",
            "gridwidth": 2,
            "linecolor": "white",
            "showbackground": true,
            "ticks": "",
            "zerolinecolor": "white"
           },
           "zaxis": {
            "backgroundcolor": "#E5ECF6",
            "gridcolor": "white",
            "gridwidth": 2,
            "linecolor": "white",
            "showbackground": true,
            "ticks": "",
            "zerolinecolor": "white"
           }
          },
          "shapedefaults": {
           "line": {
            "color": "#2a3f5f"
           }
          },
          "ternary": {
           "aaxis": {
            "gridcolor": "white",
            "linecolor": "white",
            "ticks": ""
           },
           "baxis": {
            "gridcolor": "white",
            "linecolor": "white",
            "ticks": ""
           },
           "bgcolor": "#E5ECF6",
           "caxis": {
            "gridcolor": "white",
            "linecolor": "white",
            "ticks": ""
           }
          },
          "title": {
           "x": 0.05
          },
          "xaxis": {
           "automargin": true,
           "gridcolor": "white",
           "linecolor": "white",
           "ticks": "",
           "title": {
            "standoff": 15
           },
           "zerolinecolor": "white",
           "zerolinewidth": 2
          },
          "yaxis": {
           "automargin": true,
           "gridcolor": "white",
           "linecolor": "white",
           "ticks": "",
           "title": {
            "standoff": 15
           },
           "zerolinecolor": "white",
           "zerolinewidth": 2
          }
         }
        },
        "title": {
         "font": {
          "size": 20
         },
         "text": "Percentage of Veterans by State"
        }
       }
      }
     },
     "metadata": {},
     "output_type": "display_data"
    }
   ],
   "source": [
    "fig = px.treemap(vetsbystate, \n",
    "                 path=[vetsbystate['NAME']], \n",
    "                 values='EMP', \n",
    "                 color='percent_veteran',\n",
    "                 color_continuous_scale='RdBu')\n",
    "\n",
    "# Update the layout of the figure\n",
    "fig.update_layout(title='Percentage of Veterans by State', \n",
    "                  title_font_size=20, \n",
    "                  font_size=14)\n",
    "\n",
    "# Show the figure\n",
    "fig.show()"
   ]
  },
  {
   "attachments": {},
   "cell_type": "markdown",
   "metadata": {},
   "source": [
    "I also added a correlation matrix using the pandas factorize method and seaborn heatmap. \n",
    "\n",
    "Creating correlation matrices from categorical data is not possible in the Excel Data Analysis Toolpak since it only accepts numerical data for analysis by Pearson coefficient. I was curious to see what the seasborn heapmap would produce, given that most of the variables considered were categorical. \n",
    "\n",
    "The only factors with strong correlation are number of employees and annual pay, which is to be expected. One issue I had here was trying to get the labels to align with the grid."
   ]
  },
  {
   "cell_type": "code",
   "execution_count": 717,
   "metadata": {},
   "outputs": [
    {
     "data": {
      "image/png": "[encoded data removed]",
      "text/plain": [
       "<Figure size 864x432 with 2 Axes>"
      ]
     },
     "metadata": {},
     "output_type": "display_data"
    }
   ],
   "source": [
    "# Create a correlation matrix\n",
    "fig = plt.figure(figsize=(12, 6))\n",
    "\n",
    "factorized_df = df2019.apply(lambda x: pd.factorize(x)[0])\n",
    "corr_mat = factorized_df.corr(method='pearson')\n",
    "sns.heatmap(corr_mat, annot=True, \n",
    "            xticklabels=['YEAR','NAICS2017_x','NAICS2017_LABEL','NAME','EMP','PAYANN','SEX_LABEL','RACE_GROUP_LABEL','VET_GROUP_LABEL'],\n",
    "            yticklabels=['YEAR','NAICS2017_x','NAICS2017_LABEL','NAME','EMP','PAYANN','SEX_LABEL','RACE_GROUP_LABEL','VET_GROUP_LABEL']);\n",
    "\n",
    "plt.savefig(\"jh2.png\")"
   ]
  },
  {
   "attachments": {},
   "cell_type": "markdown",
   "metadata": {},
   "source": [
    "## COVID EFFECT ON INDUSTRIAL SECTOR\n",
    "This section investigates if there was an effect on certain industry sectors during the onset COVID pandemic.\n",
    "\n",
    "I began this study looking at all 19 sectors listed in the sectors data frame, but it quickly became evident that certain industries produced values orders of magnitude larger than the majority. I separated out the very high earning sectors of Management of companies and enterprises', 'Professional, scientific, and technical services', 'Utilities', and the ambiguous 'Educational services.'  \n",
    "\n",
    "In the code below, separate data frames are created for high_pay and reg_pay."
   ]
  },
  {
   "cell_type": "code",
   "execution_count": 715,
   "metadata": {},
   "outputs": [
    {
     "name": "stderr",
     "output_type": "stream",
     "text": [
      "C:\\Users\\13073\\AppData\\Local\\Temp\\ipykernel_18452\\3294314142.py:4: FutureWarning:\n",
      "\n",
      "The default value of numeric_only in DataFrameGroupBy.mean is deprecated. In a future version, numeric_only will default to False. Either specify numeric_only or select only columns which should be valid for the function.\n",
      "\n",
      "C:\\Users\\13073\\AppData\\Local\\Temp\\ipykernel_18452\\3294314142.py:5: FutureWarning:\n",
      "\n",
      "The default value of numeric_only in DataFrameGroupBy.mean is deprecated. In a future version, numeric_only will default to False. Either specify numeric_only or select only columns which should be valid for the function.\n",
      "\n"
     ]
    },
    {
     "data": {
      "text/html": [
       "<div>\n",
       "<style scoped>\n",
       "    .dataframe tbody tr th:only-of-type {\n",
       "        vertical-align: middle;\n",
       "    }\n",
       "\n",
       "    .dataframe tbody tr th {\n",
       "        vertical-align: top;\n",
       "    }\n",
       "\n",
       "    .dataframe thead th {\n",
       "        text-align: right;\n",
       "    }\n",
       "</style>\n",
       "<table border=\"1\" class=\"dataframe\">\n",
       "  <thead>\n",
       "    <tr style=\"text-align: right;\">\n",
       "      <th></th>\n",
       "      <th></th>\n",
       "      <th>revenue_per_employee</th>\n",
       "    </tr>\n",
       "    <tr>\n",
       "      <th>YEAR</th>\n",
       "      <th>NAICS2017_LABEL</th>\n",
       "      <th></th>\n",
       "    </tr>\n",
       "  </thead>\n",
       "  <tbody>\n",
       "    <tr>\n",
       "      <th rowspan=\"3\" valign=\"top\">2018</th>\n",
       "      <th>Accommodation and food services</th>\n",
       "      <td>20.065149</td>\n",
       "    </tr>\n",
       "    <tr>\n",
       "      <th>Administrative and support and waste management and remediation services</th>\n",
       "      <td>40.170276</td>\n",
       "    </tr>\n",
       "    <tr>\n",
       "      <th>Agriculture, forestry, fishing and hunting</th>\n",
       "      <td>18.643510</td>\n",
       "    </tr>\n",
       "  </tbody>\n",
       "</table>\n",
       "</div>"
      ],
      "text/plain": [
       "                                                         revenue_per_employee\n",
       "YEAR NAICS2017_LABEL                                                         \n",
       "2018 Accommodation and food services                                20.065149\n",
       "     Administrative and support and waste management...             40.170276\n",
       "     Agriculture, forestry, fishing and hunting                     18.643510"
      ]
     },
     "metadata": {},
     "output_type": "display_data"
    }
   ],
   "source": [
    "high_pay = cdf_us.loc[cdf_us['NAICS2017_LABEL'].isin(['Management of companies and enterprises', 'Professional, scientific, and technical services', 'Utilities','Educational services'])]\n",
    "reg_pay = cdf_us[~cdf_us['NAICS2017_LABEL'].isin(['Management of companies and enterprises', 'Professional, scientific, and technical services', 'Utilities','Educational services'])]\n",
    "\n",
    "high_df = high_pay.groupby(['YEAR','NAICS2017_LABEL']).agg('mean')\n",
    "reg_df = reg_pay.groupby(['YEAR','NAICS2017_LABEL']).agg('mean')\n",
    "\n",
    "high_df['revenue_per_employee'] = high_df.apply(lambda row: row['PAYANN']/row['EMP'] if row['EMP'] != 0 else 0,axis=1)\n",
    "reg_df['revenue_per_employee'] = reg_df.apply(lambda row: row['PAYANN']/row['EMP'] if row['EMP'] != 0 else 0,axis=1)\n",
    "display(us_sector_df.head(3))"
   ]
  },
  {
   "cell_type": "code",
   "execution_count": 716,
   "metadata": {},
   "outputs": [
    {
     "data": {
      "text/html": [
       "<div>\n",
       "<style scoped>\n",
       "    .dataframe tbody tr th:only-of-type {\n",
       "        vertical-align: middle;\n",
       "    }\n",
       "\n",
       "    .dataframe tbody tr th {\n",
       "        vertical-align: top;\n",
       "    }\n",
       "\n",
       "    .dataframe thead th {\n",
       "        text-align: right;\n",
       "    }\n",
       "</style>\n",
       "<table border=\"1\" class=\"dataframe\">\n",
       "  <thead>\n",
       "    <tr style=\"text-align: right;\">\n",
       "      <th></th>\n",
       "      <th>('revenue_per_employee', 'Educational services')</th>\n",
       "      <th>('revenue_per_employee', 'Management of companies and enterprises')</th>\n",
       "      <th>('revenue_per_employee', 'Professional, scientific, and technical services')</th>\n",
       "      <th>('revenue_per_employee', 'Utilities')</th>\n",
       "    </tr>\n",
       "    <tr>\n",
       "      <th>YEAR</th>\n",
       "      <th></th>\n",
       "      <th></th>\n",
       "      <th></th>\n",
       "      <th></th>\n",
       "    </tr>\n",
       "  </thead>\n",
       "  <tbody>\n",
       "    <tr>\n",
       "      <th>2018</th>\n",
       "      <td>39.854696</td>\n",
       "      <td>1.109255e+02</td>\n",
       "      <td>87.249859</td>\n",
       "      <td>106.093706</td>\n",
       "    </tr>\n",
       "    <tr>\n",
       "      <th>2019</th>\n",
       "      <td>4086.963551</td>\n",
       "      <td>1.149395e+04</td>\n",
       "      <td>9087.092500</td>\n",
       "      <td>11218.973162</td>\n",
       "    </tr>\n",
       "    <tr>\n",
       "      <th>2020</th>\n",
       "      <td>4116.224887</td>\n",
       "      <td>1.121898e+06</td>\n",
       "      <td>9478.221848</td>\n",
       "      <td>11615.054464</td>\n",
       "    </tr>\n",
       "  </tbody>\n",
       "</table>\n",
       "</div>"
      ],
      "text/plain": [
       "      ('revenue_per_employee', 'Educational services')  \\\n",
       "YEAR                                                     \n",
       "2018                                         39.854696   \n",
       "2019                                       4086.963551   \n",
       "2020                                       4116.224887   \n",
       "\n",
       "      ('revenue_per_employee', 'Management of companies and enterprises')  \\\n",
       "YEAR                                                                        \n",
       "2018                                       1.109255e+02                     \n",
       "2019                                       1.149395e+04                     \n",
       "2020                                       1.121898e+06                     \n",
       "\n",
       "      ('revenue_per_employee', 'Professional, scientific, and technical services')  \\\n",
       "YEAR                                                                                 \n",
       "2018                                          87.249859                              \n",
       "2019                                        9087.092500                              \n",
       "2020                                        9478.221848                              \n",
       "\n",
       "      ('revenue_per_employee', 'Utilities')  \n",
       "YEAR                                         \n",
       "2018                             106.093706  \n",
       "2019                           11218.973162  \n",
       "2020                           11615.054464  "
      ]
     },
     "metadata": {},
     "output_type": "display_data"
    },
    {
     "data": {
      "text/html": [
       "<div>\n",
       "<style scoped>\n",
       "    .dataframe tbody tr th:only-of-type {\n",
       "        vertical-align: middle;\n",
       "    }\n",
       "\n",
       "    .dataframe tbody tr th {\n",
       "        vertical-align: top;\n",
       "    }\n",
       "\n",
       "    .dataframe thead th {\n",
       "        text-align: right;\n",
       "    }\n",
       "</style>\n",
       "<table border=\"1\" class=\"dataframe\">\n",
       "  <thead>\n",
       "    <tr style=\"text-align: right;\">\n",
       "      <th></th>\n",
       "      <th>('revenue_per_employee', 'Accommodation and food services')</th>\n",
       "      <th>('revenue_per_employee', 'Administrative and support and waste management and remediation services')</th>\n",
       "      <th>('revenue_per_employee', 'Agriculture, forestry, fishing and hunting')</th>\n",
       "      <th>('revenue_per_employee', 'Arts, entertainment, and recreation')</th>\n",
       "      <th>('revenue_per_employee', 'Construction')</th>\n",
       "      <th>('revenue_per_employee', 'Finance and insurance')</th>\n",
       "      <th>('revenue_per_employee', 'Health care and social assistance')</th>\n",
       "      <th>('revenue_per_employee', 'Industries not classified')</th>\n",
       "      <th>('revenue_per_employee', 'Information')</th>\n",
       "      <th>('revenue_per_employee', 'Manufacturing')</th>\n",
       "      <th>('revenue_per_employee', 'Mining, quarrying, and oil and gas extraction')</th>\n",
       "      <th>('revenue_per_employee', 'Other services (except public administration)')</th>\n",
       "      <th>('revenue_per_employee', 'Real estate and rental and leasing')</th>\n",
       "      <th>('revenue_per_employee', 'Retail trade')</th>\n",
       "      <th>('revenue_per_employee', 'Transportation and warehousing')</th>\n",
       "      <th>('revenue_per_employee', 'Wholesale trade')</th>\n",
       "    </tr>\n",
       "    <tr>\n",
       "      <th>YEAR</th>\n",
       "      <th></th>\n",
       "      <th></th>\n",
       "      <th></th>\n",
       "      <th></th>\n",
       "      <th></th>\n",
       "      <th></th>\n",
       "      <th></th>\n",
       "      <th></th>\n",
       "      <th></th>\n",
       "      <th></th>\n",
       "      <th></th>\n",
       "      <th></th>\n",
       "      <th></th>\n",
       "      <th></th>\n",
       "      <th></th>\n",
       "      <th></th>\n",
       "    </tr>\n",
       "  </thead>\n",
       "  <tbody>\n",
       "    <tr>\n",
       "      <th>2018</th>\n",
       "      <td>20.065149</td>\n",
       "      <td>40.170276</td>\n",
       "      <td>18.643510</td>\n",
       "      <td>34.776635</td>\n",
       "      <td>62.794733</td>\n",
       "      <td>102.627208</td>\n",
       "      <td>48.986512</td>\n",
       "      <td>14.451418</td>\n",
       "      <td>106.293355</td>\n",
       "      <td>60.30348</td>\n",
       "      <td>95.087489</td>\n",
       "      <td>33.768846</td>\n",
       "      <td>55.086426</td>\n",
       "      <td>29.132819</td>\n",
       "      <td>52.285161</td>\n",
       "      <td>74.393786</td>\n",
       "    </tr>\n",
       "    <tr>\n",
       "      <th>2019</th>\n",
       "      <td>21.199832</td>\n",
       "      <td>43.601996</td>\n",
       "      <td>25.508644</td>\n",
       "      <td>37.022231</td>\n",
       "      <td>65.211548</td>\n",
       "      <td>105.663184</td>\n",
       "      <td>50.441689</td>\n",
       "      <td>15.196228</td>\n",
       "      <td>113.515463</td>\n",
       "      <td>61.34853</td>\n",
       "      <td>98.246585</td>\n",
       "      <td>34.373214</td>\n",
       "      <td>57.612482</td>\n",
       "      <td>29.893450</td>\n",
       "      <td>51.911583</td>\n",
       "      <td>74.407272</td>\n",
       "    </tr>\n",
       "    <tr>\n",
       "      <th>2020</th>\n",
       "      <td>17.294044</td>\n",
       "      <td>45.116467</td>\n",
       "      <td>37.904370</td>\n",
       "      <td>30.139112</td>\n",
       "      <td>63.725500</td>\n",
       "      <td>115.159305</td>\n",
       "      <td>51.185162</td>\n",
       "      <td>30.058902</td>\n",
       "      <td>123.633792</td>\n",
       "      <td>61.62780</td>\n",
       "      <td>84.484562</td>\n",
       "      <td>32.409476</td>\n",
       "      <td>55.290942</td>\n",
       "      <td>30.567926</td>\n",
       "      <td>51.295855</td>\n",
       "      <td>75.762451</td>\n",
       "    </tr>\n",
       "  </tbody>\n",
       "</table>\n",
       "</div>"
      ],
      "text/plain": [
       "      ('revenue_per_employee', 'Accommodation and food services')  \\\n",
       "YEAR                                                                \n",
       "2018                                          20.065149             \n",
       "2019                                          21.199832             \n",
       "2020                                          17.294044             \n",
       "\n",
       "      ('revenue_per_employee', 'Administrative and support and waste management and remediation services')  \\\n",
       "YEAR                                                                                                         \n",
       "2018                                          40.170276                                                      \n",
       "2019                                          43.601996                                                      \n",
       "2020                                          45.116467                                                      \n",
       "\n",
       "      ('revenue_per_employee', 'Agriculture, forestry, fishing and hunting')  \\\n",
       "YEAR                                                                           \n",
       "2018                                          18.643510                        \n",
       "2019                                          25.508644                        \n",
       "2020                                          37.904370                        \n",
       "\n",
       "      ('revenue_per_employee', 'Arts, entertainment, and recreation')  \\\n",
       "YEAR                                                                    \n",
       "2018                                          34.776635                 \n",
       "2019                                          37.022231                 \n",
       "2020                                          30.139112                 \n",
       "\n",
       "      ('revenue_per_employee', 'Construction')  \\\n",
       "YEAR                                             \n",
       "2018                                 62.794733   \n",
       "2019                                 65.211548   \n",
       "2020                                 63.725500   \n",
       "\n",
       "      ('revenue_per_employee', 'Finance and insurance')  \\\n",
       "YEAR                                                      \n",
       "2018                                         102.627208   \n",
       "2019                                         105.663184   \n",
       "2020                                         115.159305   \n",
       "\n",
       "      ('revenue_per_employee', 'Health care and social assistance')  \\\n",
       "YEAR                                                                  \n",
       "2018                                          48.986512               \n",
       "2019                                          50.441689               \n",
       "2020                                          51.185162               \n",
       "\n",
       "      ('revenue_per_employee', 'Industries not classified')  \\\n",
       "YEAR                                                          \n",
       "2018                                          14.451418       \n",
       "2019                                          15.196228       \n",
       "2020                                          30.058902       \n",
       "\n",
       "      ('revenue_per_employee', 'Information')  \\\n",
       "YEAR                                            \n",
       "2018                               106.293355   \n",
       "2019                               113.515463   \n",
       "2020                               123.633792   \n",
       "\n",
       "      ('revenue_per_employee', 'Manufacturing')  \\\n",
       "YEAR                                              \n",
       "2018                                   60.30348   \n",
       "2019                                   61.34853   \n",
       "2020                                   61.62780   \n",
       "\n",
       "      ('revenue_per_employee', 'Mining, quarrying, and oil and gas extraction')  \\\n",
       "YEAR                                                                              \n",
       "2018                                          95.087489                           \n",
       "2019                                          98.246585                           \n",
       "2020                                          84.484562                           \n",
       "\n",
       "      ('revenue_per_employee', 'Other services (except public administration)')  \\\n",
       "YEAR                                                                              \n",
       "2018                                          33.768846                           \n",
       "2019                                          34.373214                           \n",
       "2020                                          32.409476                           \n",
       "\n",
       "      ('revenue_per_employee', 'Real estate and rental and leasing')  \\\n",
       "YEAR                                                                   \n",
       "2018                                          55.086426                \n",
       "2019                                          57.612482                \n",
       "2020                                          55.290942                \n",
       "\n",
       "      ('revenue_per_employee', 'Retail trade')  \\\n",
       "YEAR                                             \n",
       "2018                                 29.132819   \n",
       "2019                                 29.893450   \n",
       "2020                                 30.567926   \n",
       "\n",
       "      ('revenue_per_employee', 'Transportation and warehousing')  \\\n",
       "YEAR                                                               \n",
       "2018                                          52.285161            \n",
       "2019                                          51.911583            \n",
       "2020                                          51.295855            \n",
       "\n",
       "      ('revenue_per_employee', 'Wholesale trade')  \n",
       "YEAR                                               \n",
       "2018                                    74.393786  \n",
       "2019                                    74.407272  \n",
       "2020                                    75.762451  "
      ]
     },
     "metadata": {},
     "output_type": "display_data"
    },
    {
     "data": {
      "image/png": "[encoded data removed]",
      "text/plain": [
       "<Figure size 1872x432 with 2 Axes>"
      ]
     },
     "metadata": {},
     "output_type": "display_data"
    },
    {
     "data": {
      "text/plain": [
       "<Figure size 432x288 with 0 Axes>"
      ]
     },
     "metadata": {},
     "output_type": "display_data"
    }
   ],
   "source": [
    "high_df = high_df[['revenue_per_employee']]\n",
    "reg_df = reg_df[['revenue_per_employee']]\n",
    "\n",
    "display(hp)\n",
    "display(rp)\n",
    "hp = high_df.unstack(level='NAICS2017_LABEL')\n",
    "rp = reg_df.unstack(level='NAICS2017_LABEL')\n",
    "\n",
    "# Create a new figure with two subplots side by side\n",
    "fig, axs = plt.subplots(ncols=2, figsize=(26, 6))\n",
    "\n",
    "# Plot the data in the left subplot\n",
    "rp.columns = rp.columns.map(lambda x: str(x))\n",
    "for col in rp.columns:\n",
    "    axs[0].plot(rp.index, rp[col], label='' + col[26:59])\n",
    "axs[0].set_xlabel('Year')\n",
    "axs[0].set_ylabel('Annual revenue_per_employee $1000s')\n",
    "axs[0].set_title('Regular Industries',fontweight='bold')\n",
    "axs[0].legend(bbox_to_anchor=(1.05, 1.0), loc='upper left')\n",
    "\n",
    "# Plot the data in the right subplot\n",
    "hp.columns = hp.columns.map(lambda x: str(x))\n",
    "for col in hp.columns:\n",
    "    axs[1].plot(hp.index, hp[col], label='' + col[26:59])\n",
    "axs[1].set_xlabel('Year')\n",
    "axs[1].set_ylabel('[log] Annual revenue_per_employee ($1000s))')\n",
    "axs[1].set_title('High Paying Industries',fontweight='bold')\n",
    "axs[1].legend(bbox_to_anchor=(1.05, 1.0), loc='upper left')\n",
    "axs[1].set_yscale('log')  # Set the y-axis scale to log\n",
    "\n",
    "# Set the overall title of the figure\n",
    "fig.suptitle('Revenue per Employee by Industry Sector from 2018-2020',fontweight='bold')\n",
    "plt.tight_layout()\n",
    "plt.show()\n",
    "plt.savefig(\"jh1.png\")\n"
   ]
  },
  {
   "attachments": {},
   "cell_type": "markdown",
   "metadata": {},
   "source": [
    "The only industry sector that is significantly negatively impacted by the onset of COVID-19 is Accomodation and food services. \n",
    "\n",
    "Interestingly, Management of companies and enterprises experienced a sharp increase over these years, and in fact required logarithmic scaling the y axis. With more time, I would have liked to investigate what produced this outlier sector."
   ]
  }
 ],
 "metadata": {
  "kernelspec": {
   "display_name": "base",
   "language": "python",
   "name": "python3"
  },
  "language_info": {
   "codemirror_mode": {
    "name": "ipython",
    "version": 3
   },
   "file_extension": ".py",
   "mimetype": "text/x-python",
   "name": "python",
   "nbconvert_exporter": "python",
   "pygments_lexer": "ipython3",
   "version": "3.10.9"
  },
  "orig_nbformat": 4
 },
 "nbformat": 4,
 "nbformat_minor": 2
}
